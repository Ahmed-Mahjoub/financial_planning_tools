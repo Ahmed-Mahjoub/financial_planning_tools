{
 "cells": [
  {
   "cell_type": "markdown",
   "metadata": {},
   "source": [
    "# Financial Planning with APIs and Simulations\n",
    "\n",
    "In this Challenge, you’ll create two financial analysis tools by using a single Jupyter notebook:\n",
    "\n",
    "Part 1: A financial planner for emergencies. The members will be able to use this tool to visualize their current savings. The members can then determine if they have enough reserves for an emergency fund.\n",
    "\n",
    "Part 2: A financial planner for retirement. This tool will forecast the performance of their retirement portfolio in 30 years. To do this, the tool will make an Alpaca API call via the Alpaca SDK to get historical price data for use in Monte Carlo simulations.\n",
    "\n",
    "You’ll use the information from the Monte Carlo simulation to answer questions about the portfolio in your Jupyter notebook.\n",
    "\n"
   ]
  },
  {
   "cell_type": "code",
   "execution_count": 1,
   "metadata": {},
   "outputs": [],
   "source": [
    "# Import the required libraries and dependencies\n",
    "import os\n",
    "import requests\n",
    "import json\n",
    "import pandas as pd\n",
    "from dotenv import load_dotenv\n",
    "import alpaca_trade_api as tradeapi\n",
    "from MCForecastTools import MCSimulation\n",
    "\n",
    "%matplotlib inline"
   ]
  },
  {
   "cell_type": "code",
   "execution_count": 2,
   "metadata": {},
   "outputs": [
    {
     "data": {
      "text/plain": [
       "True"
      ]
     },
     "execution_count": 2,
     "metadata": {},
     "output_type": "execute_result"
    }
   ],
   "source": [
    "# Load the environment variables from the .env file\n",
    "#by calling the load_dotenv function\n",
    "load_dotenv()"
   ]
  },
  {
   "cell_type": "markdown",
   "metadata": {},
   "source": [
    "## Part 1: Create a Financial Planner for Emergencies"
   ]
  },
  {
   "cell_type": "markdown",
   "metadata": {},
   "source": [
    "### Evaluate the Cryptocurrency Wallet by Using the Requests Library\n",
    "\n",
    "In this section, you’ll determine the current value of a member’s cryptocurrency wallet. You’ll collect the current prices for the Bitcoin and Ethereum cryptocurrencies by using the Python Requests library. For the prototype, you’ll assume that the member holds the 1.2 Bitcoins (BTC) and 5.3 Ethereum coins (ETH). To do all this, complete the following steps:\n",
    "\n",
    "1. Create a variable named `monthly_income`, and set its value to `12000`.\n",
    "\n",
    "2. Use the Requests library to get the current price (in US dollars) of Bitcoin (BTC) and Ethereum (ETH) by using the API endpoints that the starter code supplies.\n",
    "\n",
    "3. Navigate the JSON response object to access the current price of each coin, and store each in a variable.\n",
    "\n",
    "    > **Hint** Note the specific identifier for each cryptocurrency in the API JSON response. The Bitcoin identifier is `1`, and the Ethereum identifier is `1027`.\n",
    "\n",
    "4. Calculate the value, in US dollars, of the current amount of each cryptocurrency and of the entire cryptocurrency wallet.\n",
    "\n"
   ]
  },
  {
   "cell_type": "code",
   "execution_count": 3,
   "metadata": {},
   "outputs": [],
   "source": [
    "# The current number of coins for each cryptocurrency asset held in the portfolio.\n",
    "btc_coins = 1.2\n",
    "eth_coins = 5.3"
   ]
  },
  {
   "cell_type": "markdown",
   "metadata": {},
   "source": [
    "#### Step 1: Create a variable named `monthly_income`, and set its value to `12000`."
   ]
  },
  {
   "cell_type": "code",
   "execution_count": 4,
   "metadata": {},
   "outputs": [],
   "source": [
    "# The monthly amount for the member's household income\n",
    "# YOUR CODE HERE\n",
    "monthly_income = 12000"
   ]
  },
  {
   "cell_type": "markdown",
   "metadata": {},
   "source": [
    "#### Review the endpoint URLs for the API calls to Free Crypto API in order to get the current pricing information for both BTC and ETH."
   ]
  },
  {
   "cell_type": "code",
   "execution_count": 5,
   "metadata": {},
   "outputs": [],
   "source": [
    "# The Free Crypto API Call endpoint URLs for the held cryptocurrency assets\n",
    "btc_url = \"https://api.alternative.me/v2/ticker/Bitcoin/?convert=USD\"\n",
    "eth_url = \"https://api.alternative.me/v2/ticker/Ethereum/?convert=USD\""
   ]
  },
  {
   "cell_type": "code",
   "execution_count": 6,
   "metadata": {},
   "outputs": [
    {
     "name": "stdout",
     "output_type": "stream",
     "text": [
      "[{'id': '1', 'name': 'Bitcoin', 'symbol': 'BTC', 'website_slug': 'bitcoin'}, {'id': '2', 'name': 'Litecoin', 'symbol': 'LTC', 'website_slug': 'litecoin'}, {'id': '3', 'name': 'Namecoin', 'symbol': 'NMC', 'website_slug': 'namecoin'}, {'id': '4', 'name': 'Terracoin', 'symbol': 'TRC', 'website_slug': 'terracoin'}, {'id': '5', 'name': 'Peercoin', 'symbol': 'PPC', 'website_slug': 'peercoin'}, {'id': '6', 'name': 'Novacoin', 'symbol': 'NVC', 'website_slug': 'novacoin'}, {'id': '8', 'name': 'Feathercoin', 'symbol': 'FTC', 'website_slug': 'feathercoin'}, {'id': '9', 'name': 'Mincoin', 'symbol': 'MNC', 'website_slug': 'mincoin'}, {'id': '9', 'name': 'MainCoin', 'symbol': 'MNC', 'website_slug': 'maincoin'}, {'id': '10', 'name': 'Freicoin', 'symbol': 'FRC', 'website_slug': 'freicoin'}]\n"
     ]
    }
   ],
   "source": [
    "listing = requests.get(\"https://api.alternative.me/v2/listings/\").json()[\"data\"][0:10]\n",
    "print(listing)"
   ]
  },
  {
   "cell_type": "markdown",
   "metadata": {},
   "source": [
    "#### Step 2. Use the Requests library to get the current price (in US dollars) of Bitcoin (BTC) and Ethereum (ETH) by using the API endpoints that the starter code supplied."
   ]
  },
  {
   "cell_type": "code",
   "execution_count": 7,
   "metadata": {},
   "outputs": [
    {
     "name": "stdout",
     "output_type": "stream",
     "text": [
      "{\n",
      "    \"data\": {\n",
      "        \"1\": {\n",
      "            \"circulating_supply\": 18772862,\n",
      "            \"id\": 1,\n",
      "            \"last_updated\": 1627792426,\n",
      "            \"max_supply\": 21000000,\n",
      "            \"name\": \"Bitcoin\",\n",
      "            \"quotes\": {\n",
      "                \"USD\": {\n",
      "                    \"market_cap\": 795236417499,\n",
      "                    \"percent_change_1h\": 0.133607533011597,\n",
      "                    \"percent_change_24h\": 1.33267997507641,\n",
      "                    \"percent_change_7d\": 23.6692481216917,\n",
      "                    \"percentage_change_1h\": 0.133607533011597,\n",
      "                    \"percentage_change_24h\": 1.33267997507641,\n",
      "                    \"percentage_change_7d\": 23.6692481216917,\n",
      "                    \"price\": 42312.0,\n",
      "                    \"volume_24h\": 27154785897\n",
      "                }\n",
      "            },\n",
      "            \"rank\": 1,\n",
      "            \"symbol\": \"BTC\",\n",
      "            \"total_supply\": 18772862,\n",
      "            \"website_slug\": \"bitcoin\"\n",
      "        }\n",
      "    },\n",
      "    \"metadata\": {\n",
      "        \"error\": null,\n",
      "        \"num_cryptocurrencies\": 3105,\n",
      "        \"timestamp\": 1627792426\n",
      "    }\n",
      "}\n"
     ]
    }
   ],
   "source": [
    "# Using the Python requests library, make an API call to access the current price of BTC\n",
    "btc_response = requests.get(btc_url).json()\n",
    "\n",
    "# Use the json.dumps function to review the response data from the API call\n",
    "# Use the indent and sort_keys parameters to make the response object readable\n",
    "# YOUR CODE HERE\n",
    "print(json.dumps(btc_response, indent = 4 , sort_keys = True))"
   ]
  },
  {
   "cell_type": "code",
   "execution_count": 8,
   "metadata": {},
   "outputs": [
    {
     "name": "stdout",
     "output_type": "stream",
     "text": [
      "{\n",
      "    \"data\": {\n",
      "        \"1027\": {\n",
      "            \"circulating_supply\": 116923215,\n",
      "            \"id\": 1027,\n",
      "            \"last_updated\": 1627792471,\n",
      "            \"max_supply\": 0,\n",
      "            \"name\": \"Ethereum\",\n",
      "            \"quotes\": {\n",
      "                \"USD\": {\n",
      "                    \"market_cap\": 306967973508,\n",
      "                    \"percent_change_1h\": 1.30265420668433,\n",
      "                    \"percent_change_24h\": 7.02247507083898,\n",
      "                    \"percent_change_7d\": 20.0933691624228,\n",
      "                    \"percentage_change_1h\": 1.30265420668433,\n",
      "                    \"percentage_change_24h\": 7.02247507083898,\n",
      "                    \"percentage_change_7d\": 20.0933691624228,\n",
      "                    \"price\": 2622.39,\n",
      "                    \"volume_24h\": 22523113407\n",
      "                }\n",
      "            },\n",
      "            \"rank\": 2,\n",
      "            \"symbol\": \"ETH\",\n",
      "            \"total_supply\": 116923215,\n",
      "            \"website_slug\": \"ethereum\"\n",
      "        }\n",
      "    },\n",
      "    \"metadata\": {\n",
      "        \"error\": null,\n",
      "        \"num_cryptocurrencies\": 3105,\n",
      "        \"timestamp\": 1627792471\n",
      "    }\n",
      "}\n"
     ]
    }
   ],
   "source": [
    "# Using the Python requests library, make an API call to access the current price ETH\n",
    "eth_response = requests.get(eth_url).json()\n",
    "\n",
    "# Use the json.dumps function to review the response data from the API call\n",
    "# Use the indent and sort_keys parameters to make the response object readable\n",
    "# YOUR CODE HERE\n",
    "print(json.dumps(eth_response, indent = 4, sort_keys = True))"
   ]
  },
  {
   "cell_type": "markdown",
   "metadata": {},
   "source": [
    "#### Step 3: Navigate the JSON response object to access the current price of each coin, and store each in a variable."
   ]
  },
  {
   "cell_type": "code",
   "execution_count": 9,
   "metadata": {},
   "outputs": [
    {
     "name": "stdout",
     "output_type": "stream",
     "text": [
      " The current price of BTC is $42312.0\n"
     ]
    }
   ],
   "source": [
    "# Navigate the BTC response object to access the current price of BTC\n",
    "btc_price = btc_response['data']['1']['quotes']['USD']['price']\n",
    "\n",
    "# Print the current price of BTC\n",
    "# YOUR CODE HERE\n",
    "print(f\" The current price of BTC is ${btc_price}\")"
   ]
  },
  {
   "cell_type": "code",
   "execution_count": 10,
   "metadata": {},
   "outputs": [
    {
     "name": "stdout",
     "output_type": "stream",
     "text": [
      " The ETH current price is $ 2622.39\n"
     ]
    }
   ],
   "source": [
    "# Navigate the BTC response object to access the current price of ETH\n",
    "eth_price = eth_response['data']['1027']['quotes']['USD']['price']\n",
    "\n",
    "# Print the current price of ETH\n",
    "# YOUR CODE HERE\n",
    "print(f\" The ETH current price is $ {eth_price}\")"
   ]
  },
  {
   "cell_type": "markdown",
   "metadata": {},
   "source": [
    "### Step 4: Calculate the value, in US dollars, of the current amount of each cryptocurrency and of the entire cryptocurrency wallet."
   ]
  },
  {
   "cell_type": "code",
   "execution_count": 11,
   "metadata": {},
   "outputs": [
    {
     "name": "stdout",
     "output_type": "stream",
     "text": [
      "The current value of BTC is $ 50,774.40\n"
     ]
    }
   ],
   "source": [
    "# Compute the current value of the BTC holding \n",
    "btc_value = btc_price * btc_coins\n",
    "\n",
    "# Print current value of your holding in BTC\n",
    "# YOUR CODE HERE\n",
    "print(f\"The current value of BTC is ${btc_value: ,.2f}\")"
   ]
  },
  {
   "cell_type": "code",
   "execution_count": 12,
   "metadata": {},
   "outputs": [
    {
     "name": "stdout",
     "output_type": "stream",
     "text": [
      "The current value of ETH is $ 13,898.67\n"
     ]
    }
   ],
   "source": [
    "# Compute the current value of the ETH holding \n",
    "eth_value = eth_price * eth_coins\n",
    "\n",
    "# Print current value of your holding in ETH\n",
    "# YOUR CODE HERE\n",
    "print(f\"The current value of ETH is ${eth_value : ,.2f}\")"
   ]
  },
  {
   "cell_type": "code",
   "execution_count": 13,
   "metadata": {},
   "outputs": [
    {
     "name": "stdout",
     "output_type": "stream",
     "text": [
      "The total value of the cryptocurrency wallet is $ 64,673.07\n"
     ]
    }
   ],
   "source": [
    "# Compute the total value of the cryptocurrency wallet\n",
    "# Add the value of the BTC holding to the value of the ETH holding\n",
    "total_crypto_wallet = btc_value + eth_value\n",
    "\n",
    "# Print current cryptocurrency wallet balance\n",
    "# YOUR CODE HERE\n",
    "print(f\"The total value of the cryptocurrency wallet is ${total_crypto_wallet : ,.2f}\")"
   ]
  },
  {
   "cell_type": "markdown",
   "metadata": {},
   "source": [
    "### Evaluate the Stock and Bond Holdings by Using the Alpaca SDK\n",
    "\n",
    "In this section, you’ll determine the current value of a member’s stock and bond holdings. You’ll make an API call to Alpaca via the Alpaca SDK to get the current closing prices of the SPDR S&P 500 ETF Trust (ticker: SPY) and of the iShares Core US Aggregate Bond ETF (ticker: AGG). For the prototype, assume that the member holds 110 shares of SPY, which represents the stock portion of their portfolio, and 200 shares of AGG, which represents the bond portion. To do all this, complete the following steps:\n",
    "\n",
    "1. In the `Starter_Code` folder, create an environment file (`.env`) to store the values of your Alpaca API key and Alpaca secret key.\n",
    "\n",
    "2. Set the variables for the Alpaca API and secret keys. Using the Alpaca SDK, create the Alpaca `tradeapi.REST` object. In this object, include the parameters for the Alpaca API key, the secret key, and the version number.\n",
    "\n",
    "3. Set the following parameters for the Alpaca API call:\n",
    "\n",
    "    - `tickers`: Use the tickers for the member’s stock and bond holdings.\n",
    "\n",
    "    - `timeframe`: Use a time frame of one day.\n",
    "\n",
    "    - `start_date` and `end_date`: Use the same date for these parameters, and format them with the date of the previous weekday (or `2020-08-07`). This is because you want the one closing price for the most-recent trading day.\n",
    "\n",
    "4. Get the current closing prices for `SPY` and `AGG` by using the Alpaca `get_barset` function. Format the response as a Pandas DataFrame by including the `df` property at the end of the `get_barset` function.\n",
    "\n",
    "5. Navigating the Alpaca response DataFrame, select the `SPY` and `AGG` closing prices, and store them as variables.\n",
    "\n",
    "6. Calculate the value, in US dollars, of the current amount of shares in each of the stock and bond portions of the portfolio, and print the results.\n"
   ]
  },
  {
   "cell_type": "markdown",
   "metadata": {},
   "source": [
    "#### Review the total number of shares held in both (SPY) and (AGG)."
   ]
  },
  {
   "cell_type": "code",
   "execution_count": 14,
   "metadata": {},
   "outputs": [],
   "source": [
    "# Current amount of shares held in both the stock (SPY) and bond (AGG) portion of the portfolio.\n",
    "spy_shares = 110\n",
    "agg_shares = 200\n"
   ]
  },
  {
   "cell_type": "markdown",
   "metadata": {},
   "source": [
    "#### Step 1: In the `Starter_Code` folder, create an environment file (`.env`) to store the values of your Alpaca API key and Alpaca secret key."
   ]
  },
  {
   "cell_type": "markdown",
   "metadata": {},
   "source": [
    "#### Step 2: Set the variables for the Alpaca API and secret keys. Using the Alpaca SDK, create the Alpaca `tradeapi.REST` object. In this object, include the parameters for the Alpaca API key, the secret key, and the version number."
   ]
  },
  {
   "cell_type": "code",
   "execution_count": 15,
   "metadata": {},
   "outputs": [],
   "source": [
    "# Set the variables for the Alpaca API and secret keys\n",
    "# YOUR CODE HERE\n",
    "# YOUR CODE HERE\n",
    "alpaca_api_key = os.getenv(\"ALPACA_API_KEY\")\n",
    "alpaca_secret_key = os.getenv(\"ALPACA_SECRET_KEY\")\n",
    "\n",
    " # Create the Alpaca tradeapi.REST object\n",
    " # YOUR CODE HERE\n",
    "alpaca = tradeapi.REST(\n",
    "     alpaca_api_key,\n",
    "     alpaca_secret_key,\n",
    "     api_version = \"v2\"\n",
    ")\n",
    "\n"
   ]
  },
  {
   "cell_type": "markdown",
   "metadata": {},
   "source": [
    "#### Step 3: Set the following parameters for the Alpaca API call:\n",
    "\n",
    "- `tickers`: Use the tickers for the member’s stock and bond holdings.\n",
    "\n",
    "- `timeframe`: Use a time frame of one day.\n",
    "\n",
    "- `start_date` and `end_date`: Use the same date for these parameters, and format them with the date of the previous weekday (or `2020-08-07`). This is because you want the one closing price for the most-recent trading day.\n"
   ]
  },
  {
   "cell_type": "code",
   "execution_count": 16,
   "metadata": {},
   "outputs": [],
   "source": [
    "# Set the tickers for both the bond and stock portion of the portfolio\n",
    "# YOUR CODE HERE\n",
    "tickers = [\"SPY\", \"AGG\"]\n",
    "# Set timeframe to 1D \n",
    "# YOUR CODE HERE\n",
    "timeframe = \"1D\"\n",
    "# Format current date as ISO format\n",
    "# Set both the start and end date at the date of your prior weekday \n",
    "# This will give you the closing price of the previous trading day\n",
    "# Alternatively you can use a start and end date of 2020-08-07\n",
    "start_date = pd.Timestamp(\"2020-08-07\" , tz=\"America/New_York\").isoformat()\n",
    "end_date = pd.Timestamp(\"2020-08-07\" , tz=\"America/New_York\").isoformat()\n",
    "\n",
    "\n"
   ]
  },
  {
   "cell_type": "code",
   "execution_count": 17,
   "metadata": {},
   "outputs": [
    {
     "data": {
      "text/plain": [
       "['SPY', 'AGG']"
      ]
     },
     "execution_count": 17,
     "metadata": {},
     "output_type": "execute_result"
    }
   ],
   "source": [
    "tickers"
   ]
  },
  {
   "cell_type": "markdown",
   "metadata": {},
   "source": [
    "#### Step 4: Get the current closing prices for `SPY` and `AGG` by using the Alpaca `get_barset` function. Format the response as a Pandas DataFrame by including the `df` property at the end of the `get_barset` function."
   ]
  },
  {
   "cell_type": "code",
   "execution_count": 18,
   "metadata": {},
   "outputs": [
    {
     "data": {
      "text/html": [
       "<div>\n",
       "<style scoped>\n",
       "    .dataframe tbody tr th:only-of-type {\n",
       "        vertical-align: middle;\n",
       "    }\n",
       "\n",
       "    .dataframe tbody tr th {\n",
       "        vertical-align: top;\n",
       "    }\n",
       "\n",
       "    .dataframe thead tr th {\n",
       "        text-align: left;\n",
       "    }\n",
       "\n",
       "    .dataframe thead tr:last-of-type th {\n",
       "        text-align: right;\n",
       "    }\n",
       "</style>\n",
       "<table border=\"1\" class=\"dataframe\">\n",
       "  <thead>\n",
       "    <tr>\n",
       "      <th></th>\n",
       "      <th colspan=\"5\" halign=\"left\">AGG</th>\n",
       "      <th colspan=\"5\" halign=\"left\">SPY</th>\n",
       "    </tr>\n",
       "    <tr>\n",
       "      <th></th>\n",
       "      <th>open</th>\n",
       "      <th>high</th>\n",
       "      <th>low</th>\n",
       "      <th>close</th>\n",
       "      <th>volume</th>\n",
       "      <th>open</th>\n",
       "      <th>high</th>\n",
       "      <th>low</th>\n",
       "      <th>close</th>\n",
       "      <th>volume</th>\n",
       "    </tr>\n",
       "    <tr>\n",
       "      <th>time</th>\n",
       "      <th></th>\n",
       "      <th></th>\n",
       "      <th></th>\n",
       "      <th></th>\n",
       "      <th></th>\n",
       "      <th></th>\n",
       "      <th></th>\n",
       "      <th></th>\n",
       "      <th></th>\n",
       "      <th></th>\n",
       "    </tr>\n",
       "  </thead>\n",
       "  <tbody>\n",
       "    <tr>\n",
       "      <th>2020-08-07 00:00:00-04:00</th>\n",
       "      <td>119.66</td>\n",
       "      <td>119.73</td>\n",
       "      <td>119.395</td>\n",
       "      <td>119.445</td>\n",
       "      <td>8830420</td>\n",
       "      <td>333.28</td>\n",
       "      <td>334.88</td>\n",
       "      <td>332.3</td>\n",
       "      <td>334.55</td>\n",
       "      <td>98710236</td>\n",
       "    </tr>\n",
       "  </tbody>\n",
       "</table>\n",
       "</div>"
      ],
      "text/plain": [
       "                              AGG                                        SPY  \\\n",
       "                             open    high      low    close   volume    open   \n",
       "time                                                                           \n",
       "2020-08-07 00:00:00-04:00  119.66  119.73  119.395  119.445  8830420  333.28   \n",
       "\n",
       "                                                            \n",
       "                             high    low   close    volume  \n",
       "time                                                        \n",
       "2020-08-07 00:00:00-04:00  334.88  332.3  334.55  98710236  "
      ]
     },
     "execution_count": 18,
     "metadata": {},
     "output_type": "execute_result"
    }
   ],
   "source": [
    "# Use the Alpaca get_barset function to get current closing prices the portfolio\n",
    "# Be sure to set the `df` property after the function to format the response object as a DataFrame\n",
    "# YOUR CODE HERE\n",
    "df_portfolio = alpaca.get_barset(\n",
    "tickers,\n",
    "timeframe,\n",
    "start = start_date,\n",
    "end = end_date\n",
    ").df\n",
    "# Review the first 5 rows of the Alpaca DataFrame\n",
    "# YOUR CODE HERE\n",
    "df_portfolio"
   ]
  },
  {
   "cell_type": "markdown",
   "metadata": {},
   "source": [
    "#### Step 5: Navigating the Alpaca response DataFrame, select the `SPY` and `AGG` closing prices, and store them as variables."
   ]
  },
  {
   "cell_type": "code",
   "execution_count": 19,
   "metadata": {},
   "outputs": [
    {
     "name": "stdout",
     "output_type": "stream",
     "text": [
      "119.445\n",
      "<class 'float'>\n"
     ]
    }
   ],
   "source": [
    "# Access the closing price for AGG from the Alpaca DataFrame\n",
    "# Converting the value to a floating point number\n",
    "agg_close_price = float(df_portfolio[\"AGG\"][\"close\"])\n",
    "\n",
    "# Print the AGG closing price\n",
    "# YOUR CODE HERE\n",
    "print(agg_close_price)\n",
    "print(type(agg_close_price))"
   ]
  },
  {
   "cell_type": "code",
   "execution_count": 20,
   "metadata": {},
   "outputs": [
    {
     "name": "stdout",
     "output_type": "stream",
     "text": [
      "334.55\n",
      "<class 'float'>\n"
     ]
    }
   ],
   "source": [
    "# Access the closing price for SPY from the Alpaca DataFrame\n",
    "# Converting the value to a floating point number\n",
    "spy_close_price = float(df_portfolio[\"SPY\"][\"close\"])\n",
    "\n",
    "# Print the SPY closing price\n",
    "print(spy_close_price)\n",
    "print(type(spy_close_price))\n"
   ]
  },
  {
   "cell_type": "markdown",
   "metadata": {},
   "source": [
    "#### Step 6: Calculate the value, in US dollars, of the current amount of shares in each of the stock and bond portions of the portfolio, and print the results."
   ]
  },
  {
   "cell_type": "code",
   "execution_count": 21,
   "metadata": {},
   "outputs": [
    {
     "name": "stdout",
     "output_type": "stream",
     "text": [
      "The current value of the stock_bond portfolio is $ 66,910.00\n"
     ]
    }
   ],
   "source": [
    "# Calculate the current value of the bond portion of the portfolio\n",
    "agg_value = agg_shares * spy_close_price\n",
    "\n",
    "# Print the current value of the bond portfolio\n",
    "# YOUR CODE HERE\n",
    "print(f\"The current value of the stock_bond portfolio is ${agg_value: ,.2f}\")"
   ]
  },
  {
   "cell_type": "code",
   "execution_count": 22,
   "metadata": {},
   "outputs": [
    {
     "name": "stdout",
     "output_type": "stream",
     "text": [
      "The current value of the stock portfolio is $ 36,800.50\n"
     ]
    }
   ],
   "source": [
    "# Calculate the current value of the stock portion of the portfolio\n",
    "spy_value = spy_shares *spy_close_price\n",
    "\n",
    "# Print the current value of the stock portfolio\n",
    "# YOUR CODE HERE\n",
    "print(f\"The current value of the stock portfolio is ${spy_value: ,.2f}\")"
   ]
  },
  {
   "cell_type": "code",
   "execution_count": 23,
   "metadata": {},
   "outputs": [
    {
     "name": "stdout",
     "output_type": "stream",
     "text": [
      "The currrent balance of the stock and bond portion of the portfolio is $ 103,710.50\n"
     ]
    }
   ],
   "source": [
    "# Calculate the total value of the stock and bond portion of the portfolio\n",
    "total_stocks_bonds = agg_value + spy_value\n",
    "\n",
    "# Print the current balance of the stock and bond portion of the portfolio\n",
    "# YOUR CODE HERE\n",
    "print(f\"The currrent balance of the stock and bond portion of the portfolio is ${total_stocks_bonds: ,.2f}\")"
   ]
  },
  {
   "cell_type": "code",
   "execution_count": 24,
   "metadata": {},
   "outputs": [
    {
     "name": "stdout",
     "output_type": "stream",
     "text": [
      "The current cryptocurrency wallet balance is $ 168,383.57\n"
     ]
    }
   ],
   "source": [
    "# Calculate the total value of the member's entire savings portfolio\n",
    "# Add the value of the cryptocurrency walled to the value of the total stocks and bonds\n",
    "total_portfolio = total_crypto_wallet +total_stocks_bonds\n",
    "\n",
    "# Print current cryptocurrency wallet balance\n",
    "# YOUR CODE HERE\n",
    "print(f\"The current cryptocurrency wallet balance is ${total_portfolio: ,.2f}\")"
   ]
  },
  {
   "cell_type": "markdown",
   "metadata": {},
   "source": [
    "### Evaluate the Emergency Fund\n",
    "\n",
    "In this section, you’ll use the valuations for the cryptocurrency wallet and for the stock and bond portions of the portfolio to determine if the credit union member has enough savings to build an emergency fund into their financial plan. To do this, complete the following steps:\n",
    "\n",
    "1. Create a Python list named `savings_data` that has two elements. The first element contains the total value of the cryptocurrency wallet. The second element contains the total value of the stock and bond portions of the portfolio.\n",
    "\n",
    "2. Use the `savings_data` list to create a Pandas DataFrame named `savings_df`, and then display this DataFrame. The function to create the DataFrame should take the following three parameters:\n",
    "\n",
    "    - `savings_data`: Use the list that you just created.\n",
    "\n",
    "    - `columns`: Set this parameter equal to a Python list with a single value called `amount`.\n",
    "\n",
    "    - `index`: Set this parameter equal to a Python list with the values of `crypto` and `stock/bond`.\n",
    "\n",
    "3. Use the `savings_df` DataFrame to plot a pie chart that visualizes the composition of the member’s portfolio. The y-axis of the pie chart uses `amount`. Be sure to add a title.\n",
    "\n",
    "4. Using Python, determine if the current portfolio has enough to create an emergency fund as part of the member’s financial plan. Ideally, an emergency fund should equal to three times the member’s monthly income. To do this, implement the following steps:\n",
    "\n",
    "    1. Create a variable named `emergency_fund_value`, and set it equal to three times the value of the member’s `monthly_income` of $12000. (You set this earlier in Part 1).\n",
    "\n",
    "    2. Create a series of three if statements to determine if the member’s total portfolio is large enough to fund the emergency portfolio:\n",
    "\n",
    "        1. If the total portfolio value is greater than the emergency fund value, display a message congratulating the member for having enough money in this fund.\n",
    "\n",
    "        2. Else if the total portfolio value is equal to the emergency fund value, display a message congratulating the member on reaching this important financial goal.\n",
    "\n",
    "        3. Else the total portfolio is less than the emergency fund value, so display a message showing how many dollars away the member is from reaching the goal. (Subtract the total portfolio value from the emergency fund value.)\n"
   ]
  },
  {
   "cell_type": "markdown",
   "metadata": {},
   "source": [
    "#### Step 1: Create a Python list named `savings_data` that has two elements. The first element contains the total value of the cryptocurrency wallet. The second element contains the total value of the stock and bond portions of the portfolio."
   ]
  },
  {
   "cell_type": "code",
   "execution_count": 25,
   "metadata": {},
   "outputs": [
    {
     "data": {
      "text/plain": [
       "[64673.067, 103710.5]"
      ]
     },
     "execution_count": 25,
     "metadata": {},
     "output_type": "execute_result"
    }
   ],
   "source": [
    "# Consolidate financial assets data into a Python list\n",
    "# YOUR CODE HERE\n",
    "saving_data = [total_crypto_wallet,total_stocks_bonds]\n",
    "# Review the Python list savings_data\n",
    "# YOUR CODE HERE\n",
    "saving_data"
   ]
  },
  {
   "cell_type": "markdown",
   "metadata": {},
   "source": [
    "#### Step 2: Use the `savings_data` list to create a Pandas DataFrame named `savings_df`, and then display this DataFrame. The function to create the DataFrame should take the following three parameters:\n",
    "\n",
    "- `savings_data`: Use the list that you just created.\n",
    "\n",
    "- `columns`: Set this parameter equal to a Python list with a single value called `amount`.\n",
    "\n",
    "- `index`: Set this parameter equal to a Python list with the values of `crypto` and `stock/bond`.\n"
   ]
  },
  {
   "cell_type": "code",
   "execution_count": 26,
   "metadata": {},
   "outputs": [
    {
     "data": {
      "text/html": [
       "<div>\n",
       "<style scoped>\n",
       "    .dataframe tbody tr th:only-of-type {\n",
       "        vertical-align: middle;\n",
       "    }\n",
       "\n",
       "    .dataframe tbody tr th {\n",
       "        vertical-align: top;\n",
       "    }\n",
       "\n",
       "    .dataframe thead th {\n",
       "        text-align: right;\n",
       "    }\n",
       "</style>\n",
       "<table border=\"1\" class=\"dataframe\">\n",
       "  <thead>\n",
       "    <tr style=\"text-align: right;\">\n",
       "      <th></th>\n",
       "      <th>Amount</th>\n",
       "    </tr>\n",
       "  </thead>\n",
       "  <tbody>\n",
       "    <tr>\n",
       "      <th>Crypto</th>\n",
       "      <td>64673.067</td>\n",
       "    </tr>\n",
       "    <tr>\n",
       "      <th>Stock/Bond</th>\n",
       "      <td>103710.500</td>\n",
       "    </tr>\n",
       "  </tbody>\n",
       "</table>\n",
       "</div>"
      ],
      "text/plain": [
       "                Amount\n",
       "Crypto       64673.067\n",
       "Stock/Bond  103710.500"
      ]
     },
     "execution_count": 26,
     "metadata": {},
     "output_type": "execute_result"
    }
   ],
   "source": [
    "# Create a Pandas DataFrame called savings_df \n",
    "# YOUR CODE HERE\n",
    "saving_df = pd.DataFrame(\n",
    "{'Amount' :[total_crypto_wallet, total_stocks_bonds]},\n",
    "index = ['Crypto' , 'Stock/Bond']\n",
    ")\n",
    "# Display the savings_df DataFrame\n",
    "# YOUR CODE HERE\n",
    "saving_df"
   ]
  },
  {
   "cell_type": "markdown",
   "metadata": {},
   "source": [
    "#### Step 3: Use the `savings_df` DataFrame to plot a pie chart that visualizes the composition of the member’s portfolio. The y-axis of the pie chart uses `amount`. Be sure to add a title."
   ]
  },
  {
   "cell_type": "code",
   "execution_count": 27,
   "metadata": {},
   "outputs": [
    {
     "data": {
      "text/plain": [
       "<AxesSubplot:title={'center':'Portfolio (crypto and stock/bond) - 2020-08-07'}, ylabel='Amount'>"
      ]
     },
     "execution_count": 27,
     "metadata": {},
     "output_type": "execute_result"
    },
    {
     "data": {
      "image/png": "[encoded data removed]",
      "text/plain": [
       "<Figure size 432x288 with 1 Axes>"
      ]
     },
     "metadata": {},
     "output_type": "display_data"
    }
   ],
   "source": [
    "# Plot the total value of the member's portfolio (crypto and stock/bond) in a pie chart\n",
    "# YOUR CODE HERE\n",
    "saving_df.plot.pie(y='Amount', title= \"Portfolio (crypto and stock/bond) - 2020-08-07\")"
   ]
  },
  {
   "cell_type": "markdown",
   "metadata": {},
   "source": [
    "#### Step 4: Using Python, determine if the current portfolio has enough to create an emergency fund as part of the member’s financial plan. Ideally, an emergency fund should equal to three times the member’s monthly income. To do this, implement the following steps:\n",
    "\n",
    "Step 1. Create a variable named `emergency_fund_value`, and set it equal to three times the value of the member’s `monthly_income` of 12000. (You set this earlier in Part 1).\n",
    "\n",
    "Step 2. Create a series of three if statements to determine if the member’s total portfolio is large enough to fund the emergency portfolio:\n",
    "\n",
    "* If the total portfolio value is greater than the emergency fund value, display a message congratulating the member for having enough money in this fund.\n",
    "\n",
    "* Else if the total portfolio value is equal to the emergency fund value, display a message congratulating the member on reaching this important financial goal.\n",
    "\n",
    "* Else the total portfolio is less than the emergency fund value, so display a message showing how many dollars away the member is from reaching the goal. (Subtract the total portfolio value from the emergency fund value.)\n"
   ]
  },
  {
   "cell_type": "markdown",
   "metadata": {},
   "source": [
    "##### Step 4-1: Create a variable named `emergency_fund_value`, and set it equal to three times the value of the member’s `monthly_income` of 12000. (You set this earlier in Part 1)."
   ]
  },
  {
   "cell_type": "code",
   "execution_count": 28,
   "metadata": {},
   "outputs": [
    {
     "data": {
      "text/plain": [
       "36000"
      ]
     },
     "execution_count": 28,
     "metadata": {},
     "output_type": "execute_result"
    }
   ],
   "source": [
    "# Create a variable named emergency_fund_value\n",
    "# YOUR CODE HERE\n",
    "emergency_fund_value = 3* monthly_income\n",
    "emergency_fund_value"
   ]
  },
  {
   "cell_type": "markdown",
   "metadata": {},
   "source": [
    "##### Step 4-2: Create a series of three if statements to determine if the member’s total portfolio is large enough to fund the emergency portfolio:\n",
    "\n",
    "* If the total portfolio value is greater than the emergency fund value, display a message congratulating the member for having enough money in this fund.\n",
    "\n",
    "* Else if the total portfolio value is equal to the emergency fund value, display a message congratulating the member on reaching this important financial goal.\n",
    "\n",
    "* Else the total portfolio is less than the emergency fund value, so display a message showing how many dollars away the member is from reaching the goal. (Subtract the total portfolio value from the emergency fund value.)"
   ]
  },
  {
   "cell_type": "code",
   "execution_count": 29,
   "metadata": {},
   "outputs": [
    {
     "name": "stdout",
     "output_type": "stream",
     "text": [
      "Congratulation! it appears that you have enough money in your fund\n"
     ]
    }
   ],
   "source": [
    "# Evaluate the possibility of creating an emergency fund with 3 conditions:\n",
    "if (total_portfolio > emergency_fund_value):\n",
    "    print(\"Congratulation! it appears that you have enough money in your fund\")\n",
    "elif (total_portfolio == emergency_fund_value):\n",
    "    print(\"Congratulation! you have reach an important financial goal\")\n",
    "elif (total_portfolio< emergency_fund_value):\n",
    "    print(f\"You are {emergency_fund_value - total_portfolio: ,.2f}$ away from reaching the goal\")\n",
    "    \n"
   ]
  },
  {
   "cell_type": "markdown",
   "metadata": {},
   "source": [
    "## Part 2: Create a Financial Planner for Retirement"
   ]
  },
  {
   "cell_type": "markdown",
   "metadata": {},
   "source": [
    "### Create the Monte Carlo Simulation\n",
    "\n",
    "In this section, you’ll use the MCForecastTools library to create a Monte Carlo simulation for the member’s savings portfolio. To do this, complete the following steps:\n",
    "\n",
    "1. Make an API call via the Alpaca SDK to get 3 years of historical closing prices for a traditional 60/40 portfolio split: 60% stocks (SPY) and 40% bonds (AGG).\n",
    "\n",
    "2. Run a Monte Carlo simulation of 500 samples and 30 years for the 60/40 portfolio, and then plot the results.The following image shows the overlay line plot resulting from a simulation with these characteristics. However, because a random number generator is used to run each live Monte Carlo simulation, your image will differ slightly from this exact image:\n",
    "\n",
    "![A screenshot depicts the resulting plot.](Images/5-4-monte-carlo-line-plot.png)\n",
    "\n",
    "3. Plot the probability distribution of the Monte Carlo simulation. Plot the probability distribution of the Monte Carlo simulation. The following image shows the histogram plot resulting from a simulation with these characteristics. However, because a random number generator is used to run each live Monte Carlo simulation, your image will differ slightly from this exact image:\n",
    "\n",
    "![A screenshot depicts the histogram plot.](Images/5-4-monte-carlo-histogram.png)\n",
    "\n",
    "4. Generate the summary statistics for the Monte Carlo simulation.\n",
    "\n"
   ]
  },
  {
   "cell_type": "markdown",
   "metadata": {},
   "source": [
    "#### Step 1: Make an API call via the Alpaca SDK to get 3 years of historical closing prices for a traditional 60/40 portfolio split: 60% stocks (SPY) and 40% bonds (AGG)."
   ]
  },
  {
   "cell_type": "code",
   "execution_count": 30,
   "metadata": {},
   "outputs": [],
   "source": [
    "# Set start and end dates of 3 years back from your current date\n",
    "# Alternatively, you can use an end date of 2020-08-07 and work 3 years back from that date \n",
    "start_date = pd.Timestamp(\"2017-08-07\", tz=\"America/New_York\")\n",
    "end_date = pd.Timestamp(\"2020-08-07\", tz=\"America/New_York\")\n",
    "# Set number of rows to 1000 to retrieve the maximum amount of rows\n",
    "# YOUR CODE HERE\n",
    "limit_rows = 1000"
   ]
  },
  {
   "cell_type": "code",
   "execution_count": 31,
   "metadata": {},
   "outputs": [
    {
     "data": {
      "text/html": [
       "<div>\n",
       "<style scoped>\n",
       "    .dataframe tbody tr th:only-of-type {\n",
       "        vertical-align: middle;\n",
       "    }\n",
       "\n",
       "    .dataframe tbody tr th {\n",
       "        vertical-align: top;\n",
       "    }\n",
       "\n",
       "    .dataframe thead tr th {\n",
       "        text-align: left;\n",
       "    }\n",
       "\n",
       "    .dataframe thead tr:last-of-type th {\n",
       "        text-align: right;\n",
       "    }\n",
       "</style>\n",
       "<table border=\"1\" class=\"dataframe\">\n",
       "  <thead>\n",
       "    <tr>\n",
       "      <th></th>\n",
       "      <th colspan=\"5\" halign=\"left\">AGG</th>\n",
       "      <th colspan=\"5\" halign=\"left\">SPY</th>\n",
       "    </tr>\n",
       "    <tr>\n",
       "      <th></th>\n",
       "      <th>open</th>\n",
       "      <th>high</th>\n",
       "      <th>low</th>\n",
       "      <th>close</th>\n",
       "      <th>volume</th>\n",
       "      <th>open</th>\n",
       "      <th>high</th>\n",
       "      <th>low</th>\n",
       "      <th>close</th>\n",
       "      <th>volume</th>\n",
       "    </tr>\n",
       "    <tr>\n",
       "      <th>time</th>\n",
       "      <th></th>\n",
       "      <th></th>\n",
       "      <th></th>\n",
       "      <th></th>\n",
       "      <th></th>\n",
       "      <th></th>\n",
       "      <th></th>\n",
       "      <th></th>\n",
       "      <th></th>\n",
       "      <th></th>\n",
       "    </tr>\n",
       "  </thead>\n",
       "  <tbody>\n",
       "    <tr>\n",
       "      <th>2017-08-10 00:00:00-04:00</th>\n",
       "      <td>109.70</td>\n",
       "      <td>109.8500</td>\n",
       "      <td>109.67</td>\n",
       "      <td>109.8053</td>\n",
       "      <td>1691677</td>\n",
       "      <td>246.28</td>\n",
       "      <td>246.44</td>\n",
       "      <td>243.70</td>\n",
       "      <td>243.79</td>\n",
       "      <td>87857827</td>\n",
       "    </tr>\n",
       "    <tr>\n",
       "      <th>2017-08-11 00:00:00-04:00</th>\n",
       "      <td>109.75</td>\n",
       "      <td>109.9400</td>\n",
       "      <td>109.68</td>\n",
       "      <td>109.8850</td>\n",
       "      <td>1613467</td>\n",
       "      <td>244.02</td>\n",
       "      <td>244.80</td>\n",
       "      <td>243.75</td>\n",
       "      <td>244.11</td>\n",
       "      <td>56404847</td>\n",
       "    </tr>\n",
       "    <tr>\n",
       "      <th>2017-08-14 00:00:00-04:00</th>\n",
       "      <td>109.84</td>\n",
       "      <td>109.8969</td>\n",
       "      <td>109.74</td>\n",
       "      <td>109.8100</td>\n",
       "      <td>2002026</td>\n",
       "      <td>245.59</td>\n",
       "      <td>246.79</td>\n",
       "      <td>245.55</td>\n",
       "      <td>246.52</td>\n",
       "      <td>49018104</td>\n",
       "    </tr>\n",
       "    <tr>\n",
       "      <th>2017-08-15 00:00:00-04:00</th>\n",
       "      <td>109.56</td>\n",
       "      <td>109.7150</td>\n",
       "      <td>109.56</td>\n",
       "      <td>109.6500</td>\n",
       "      <td>1585338</td>\n",
       "      <td>246.98</td>\n",
       "      <td>247.00</td>\n",
       "      <td>246.16</td>\n",
       "      <td>246.53</td>\n",
       "      <td>35274867</td>\n",
       "    </tr>\n",
       "    <tr>\n",
       "      <th>2017-08-16 00:00:00-04:00</th>\n",
       "      <td>109.54</td>\n",
       "      <td>109.9300</td>\n",
       "      <td>109.54</td>\n",
       "      <td>109.8400</td>\n",
       "      <td>1570272</td>\n",
       "      <td>247.11</td>\n",
       "      <td>247.57</td>\n",
       "      <td>246.45</td>\n",
       "      <td>246.92</td>\n",
       "      <td>44955596</td>\n",
       "    </tr>\n",
       "  </tbody>\n",
       "</table>\n",
       "</div>"
      ],
      "text/plain": [
       "                              AGG                                       \\\n",
       "                             open      high     low     close   volume   \n",
       "time                                                                     \n",
       "2017-08-10 00:00:00-04:00  109.70  109.8500  109.67  109.8053  1691677   \n",
       "2017-08-11 00:00:00-04:00  109.75  109.9400  109.68  109.8850  1613467   \n",
       "2017-08-14 00:00:00-04:00  109.84  109.8969  109.74  109.8100  2002026   \n",
       "2017-08-15 00:00:00-04:00  109.56  109.7150  109.56  109.6500  1585338   \n",
       "2017-08-16 00:00:00-04:00  109.54  109.9300  109.54  109.8400  1570272   \n",
       "\n",
       "                              SPY                                    \n",
       "                             open    high     low   close    volume  \n",
       "time                                                                 \n",
       "2017-08-10 00:00:00-04:00  246.28  246.44  243.70  243.79  87857827  \n",
       "2017-08-11 00:00:00-04:00  244.02  244.80  243.75  244.11  56404847  \n",
       "2017-08-14 00:00:00-04:00  245.59  246.79  245.55  246.52  49018104  \n",
       "2017-08-15 00:00:00-04:00  246.98  247.00  246.16  246.53  35274867  \n",
       "2017-08-16 00:00:00-04:00  247.11  247.57  246.45  246.92  44955596  "
      ]
     },
     "execution_count": 31,
     "metadata": {},
     "output_type": "execute_result"
    }
   ],
   "source": [
    "# Use the Alpaca get_barset function to make the API call to get the 3 years worth of pricing data\n",
    "# The tickers and timeframe parameters should have been set in Part 1 of this activity \n",
    "# The start and end dates should be updated with the information set above\n",
    "# Remember to add the df property to the end of the call so the response is returned as a DataFrame\n",
    "# YOUR CODE HERE\n",
    "alpaca_api_key = os.getenv(\"ALPACA_API_KEY\")\n",
    "alpaca_secret_key= os.getenv(\"ALPACA_SECRET_KEY\")\n",
    "\n",
    "tickers = [\"SPY\" , \"AGG\"]\n",
    "timeframe = \"1D\"\n",
    "\n",
    "prices_df = alpaca.get_barset(\n",
    "tickers,\n",
    "timeframe,\n",
    "start= start_date,\n",
    "end = end_date,\n",
    "limit = limit_rows\n",
    ").df\n",
    "\n",
    "# Display both the first and last five rows of the DataFrame\n",
    "# YOUR CODE HERE\n",
    "# YOUR CODE HERE\n",
    "prices_df.head()"
   ]
  },
  {
   "cell_type": "markdown",
   "metadata": {},
   "source": [
    "#### Step 2: Run a Monte Carlo simulation of 500 samples and 30 years for the 60/40 portfolio, and then plot the results."
   ]
  },
  {
   "cell_type": "code",
   "execution_count": 32,
   "metadata": {},
   "outputs": [
    {
     "data": {
      "text/html": [
       "<div>\n",
       "<style scoped>\n",
       "    .dataframe tbody tr th:only-of-type {\n",
       "        vertical-align: middle;\n",
       "    }\n",
       "\n",
       "    .dataframe tbody tr th {\n",
       "        vertical-align: top;\n",
       "    }\n",
       "\n",
       "    .dataframe thead tr th {\n",
       "        text-align: left;\n",
       "    }\n",
       "\n",
       "    .dataframe thead tr:last-of-type th {\n",
       "        text-align: right;\n",
       "    }\n",
       "</style>\n",
       "<table border=\"1\" class=\"dataframe\">\n",
       "  <thead>\n",
       "    <tr>\n",
       "      <th></th>\n",
       "      <th colspan=\"6\" halign=\"left\">AGG</th>\n",
       "      <th colspan=\"6\" halign=\"left\">SPY</th>\n",
       "    </tr>\n",
       "    <tr>\n",
       "      <th></th>\n",
       "      <th>open</th>\n",
       "      <th>high</th>\n",
       "      <th>low</th>\n",
       "      <th>close</th>\n",
       "      <th>volume</th>\n",
       "      <th>daily_return</th>\n",
       "      <th>open</th>\n",
       "      <th>high</th>\n",
       "      <th>low</th>\n",
       "      <th>close</th>\n",
       "      <th>volume</th>\n",
       "      <th>daily_return</th>\n",
       "    </tr>\n",
       "    <tr>\n",
       "      <th>time</th>\n",
       "      <th></th>\n",
       "      <th></th>\n",
       "      <th></th>\n",
       "      <th></th>\n",
       "      <th></th>\n",
       "      <th></th>\n",
       "      <th></th>\n",
       "      <th></th>\n",
       "      <th></th>\n",
       "      <th></th>\n",
       "      <th></th>\n",
       "      <th></th>\n",
       "    </tr>\n",
       "  </thead>\n",
       "  <tbody>\n",
       "    <tr>\n",
       "      <th>2017-08-10 00:00:00-04:00</th>\n",
       "      <td>109.70</td>\n",
       "      <td>109.8500</td>\n",
       "      <td>109.67</td>\n",
       "      <td>109.8053</td>\n",
       "      <td>1691677</td>\n",
       "      <td>NaN</td>\n",
       "      <td>246.28</td>\n",
       "      <td>246.44</td>\n",
       "      <td>243.70</td>\n",
       "      <td>243.79</td>\n",
       "      <td>87857827</td>\n",
       "      <td>NaN</td>\n",
       "    </tr>\n",
       "    <tr>\n",
       "      <th>2017-08-11 00:00:00-04:00</th>\n",
       "      <td>109.75</td>\n",
       "      <td>109.9400</td>\n",
       "      <td>109.68</td>\n",
       "      <td>109.8850</td>\n",
       "      <td>1613467</td>\n",
       "      <td>0.000726</td>\n",
       "      <td>244.02</td>\n",
       "      <td>244.80</td>\n",
       "      <td>243.75</td>\n",
       "      <td>244.11</td>\n",
       "      <td>56404847</td>\n",
       "      <td>0.001313</td>\n",
       "    </tr>\n",
       "    <tr>\n",
       "      <th>2017-08-14 00:00:00-04:00</th>\n",
       "      <td>109.84</td>\n",
       "      <td>109.8969</td>\n",
       "      <td>109.74</td>\n",
       "      <td>109.8100</td>\n",
       "      <td>2002026</td>\n",
       "      <td>-0.000683</td>\n",
       "      <td>245.59</td>\n",
       "      <td>246.79</td>\n",
       "      <td>245.55</td>\n",
       "      <td>246.52</td>\n",
       "      <td>49018104</td>\n",
       "      <td>0.009873</td>\n",
       "    </tr>\n",
       "    <tr>\n",
       "      <th>2017-08-15 00:00:00-04:00</th>\n",
       "      <td>109.56</td>\n",
       "      <td>109.7150</td>\n",
       "      <td>109.56</td>\n",
       "      <td>109.6500</td>\n",
       "      <td>1585338</td>\n",
       "      <td>-0.001457</td>\n",
       "      <td>246.98</td>\n",
       "      <td>247.00</td>\n",
       "      <td>246.16</td>\n",
       "      <td>246.53</td>\n",
       "      <td>35274867</td>\n",
       "      <td>0.000041</td>\n",
       "    </tr>\n",
       "    <tr>\n",
       "      <th>2017-08-16 00:00:00-04:00</th>\n",
       "      <td>109.54</td>\n",
       "      <td>109.9300</td>\n",
       "      <td>109.54</td>\n",
       "      <td>109.8400</td>\n",
       "      <td>1570272</td>\n",
       "      <td>0.001733</td>\n",
       "      <td>247.11</td>\n",
       "      <td>247.57</td>\n",
       "      <td>246.45</td>\n",
       "      <td>246.92</td>\n",
       "      <td>44955596</td>\n",
       "      <td>0.001582</td>\n",
       "    </tr>\n",
       "  </tbody>\n",
       "</table>\n",
       "</div>"
      ],
      "text/plain": [
       "                              AGG                                       \\\n",
       "                             open      high     low     close   volume   \n",
       "time                                                                     \n",
       "2017-08-10 00:00:00-04:00  109.70  109.8500  109.67  109.8053  1691677   \n",
       "2017-08-11 00:00:00-04:00  109.75  109.9400  109.68  109.8850  1613467   \n",
       "2017-08-14 00:00:00-04:00  109.84  109.8969  109.74  109.8100  2002026   \n",
       "2017-08-15 00:00:00-04:00  109.56  109.7150  109.56  109.6500  1585338   \n",
       "2017-08-16 00:00:00-04:00  109.54  109.9300  109.54  109.8400  1570272   \n",
       "\n",
       "                                           SPY                          \\\n",
       "                          daily_return    open    high     low   close   \n",
       "time                                                                     \n",
       "2017-08-10 00:00:00-04:00          NaN  246.28  246.44  243.70  243.79   \n",
       "2017-08-11 00:00:00-04:00     0.000726  244.02  244.80  243.75  244.11   \n",
       "2017-08-14 00:00:00-04:00    -0.000683  245.59  246.79  245.55  246.52   \n",
       "2017-08-15 00:00:00-04:00    -0.001457  246.98  247.00  246.16  246.53   \n",
       "2017-08-16 00:00:00-04:00     0.001733  247.11  247.57  246.45  246.92   \n",
       "\n",
       "                                                  \n",
       "                             volume daily_return  \n",
       "time                                              \n",
       "2017-08-10 00:00:00-04:00  87857827          NaN  \n",
       "2017-08-11 00:00:00-04:00  56404847     0.001313  \n",
       "2017-08-14 00:00:00-04:00  49018104     0.009873  \n",
       "2017-08-15 00:00:00-04:00  35274867     0.000041  \n",
       "2017-08-16 00:00:00-04:00  44955596     0.001582  "
      ]
     },
     "execution_count": 32,
     "metadata": {},
     "output_type": "execute_result"
    }
   ],
   "source": [
    "# Configure the Monte Carlo simulation to forecast 30 years cumulative returns\n",
    "# The weights should be split 40% to AGG and 60% to SPY.\n",
    "# Run 500 samples.\n",
    "MC_thirty_year = MCSimulation(\n",
    "portfolio_data = prices_df,\n",
    "weights = [.60, .40],\n",
    "num_simulation =500,\n",
    "num_trading_days = 252 *30\n",
    ")\n",
    "\n",
    "# Review the simulation input data\n",
    "# YOUR CODE HERE\n",
    "MC_thirty_year.portfolio_data.head()"
   ]
  },
  {
   "cell_type": "code",
   "execution_count": 33,
   "metadata": {},
   "outputs": [
    {
     "name": "stdout",
     "output_type": "stream",
     "text": [
      "Running Monte Carlo simulation number 0.\n",
      "Running Monte Carlo simulation number 10.\n",
      "Running Monte Carlo simulation number 20.\n",
      "Running Monte Carlo simulation number 30.\n",
      "Running Monte Carlo simulation number 40.\n",
      "Running Monte Carlo simulation number 50.\n",
      "Running Monte Carlo simulation number 60.\n",
      "Running Monte Carlo simulation number 70.\n",
      "Running Monte Carlo simulation number 80.\n",
      "Running Monte Carlo simulation number 90.\n",
      "Running Monte Carlo simulation number 100.\n",
      "Running Monte Carlo simulation number 110.\n",
      "Running Monte Carlo simulation number 120.\n",
      "Running Monte Carlo simulation number 130.\n",
      "Running Monte Carlo simulation number 140.\n",
      "Running Monte Carlo simulation number 150.\n",
      "Running Monte Carlo simulation number 160.\n",
      "Running Monte Carlo simulation number 170.\n",
      "Running Monte Carlo simulation number 180.\n",
      "Running Monte Carlo simulation number 190.\n",
      "Running Monte Carlo simulation number 200.\n",
      "Running Monte Carlo simulation number 210.\n",
      "Running Monte Carlo simulation number 220.\n",
      "Running Monte Carlo simulation number 230.\n",
      "Running Monte Carlo simulation number 240.\n",
      "Running Monte Carlo simulation number 250.\n",
      "Running Monte Carlo simulation number 260.\n",
      "Running Monte Carlo simulation number 270.\n",
      "Running Monte Carlo simulation number 280.\n",
      "Running Monte Carlo simulation number 290.\n",
      "Running Monte Carlo simulation number 300.\n",
      "Running Monte Carlo simulation number 310.\n",
      "Running Monte Carlo simulation number 320.\n",
      "Running Monte Carlo simulation number 330.\n",
      "Running Monte Carlo simulation number 340.\n",
      "Running Monte Carlo simulation number 350.\n",
      "Running Monte Carlo simulation number 360.\n",
      "Running Monte Carlo simulation number 370.\n",
      "Running Monte Carlo simulation number 380.\n",
      "Running Monte Carlo simulation number 390.\n",
      "Running Monte Carlo simulation number 400.\n",
      "Running Monte Carlo simulation number 410.\n",
      "Running Monte Carlo simulation number 420.\n",
      "Running Monte Carlo simulation number 430.\n",
      "Running Monte Carlo simulation number 440.\n",
      "Running Monte Carlo simulation number 450.\n",
      "Running Monte Carlo simulation number 460.\n",
      "Running Monte Carlo simulation number 470.\n",
      "Running Monte Carlo simulation number 480.\n",
      "Running Monte Carlo simulation number 490.\n"
     ]
    },
    {
     "data": {
      "text/html": [
       "<div>\n",
       "<style scoped>\n",
       "    .dataframe tbody tr th:only-of-type {\n",
       "        vertical-align: middle;\n",
       "    }\n",
       "\n",
       "    .dataframe tbody tr th {\n",
       "        vertical-align: top;\n",
       "    }\n",
       "\n",
       "    .dataframe thead th {\n",
       "        text-align: right;\n",
       "    }\n",
       "</style>\n",
       "<table border=\"1\" class=\"dataframe\">\n",
       "  <thead>\n",
       "    <tr style=\"text-align: right;\">\n",
       "      <th></th>\n",
       "      <th>0</th>\n",
       "      <th>1</th>\n",
       "      <th>2</th>\n",
       "      <th>3</th>\n",
       "      <th>4</th>\n",
       "      <th>5</th>\n",
       "      <th>6</th>\n",
       "      <th>7</th>\n",
       "      <th>8</th>\n",
       "      <th>9</th>\n",
       "      <th>...</th>\n",
       "      <th>490</th>\n",
       "      <th>491</th>\n",
       "      <th>492</th>\n",
       "      <th>493</th>\n",
       "      <th>494</th>\n",
       "      <th>495</th>\n",
       "      <th>496</th>\n",
       "      <th>497</th>\n",
       "      <th>498</th>\n",
       "      <th>499</th>\n",
       "    </tr>\n",
       "  </thead>\n",
       "  <tbody>\n",
       "    <tr>\n",
       "      <th>0</th>\n",
       "      <td>1.000000</td>\n",
       "      <td>1.000000</td>\n",
       "      <td>1.000000</td>\n",
       "      <td>1.000000</td>\n",
       "      <td>1.000000</td>\n",
       "      <td>1.000000</td>\n",
       "      <td>1.000000</td>\n",
       "      <td>1.000000</td>\n",
       "      <td>1.000000</td>\n",
       "      <td>1.000000</td>\n",
       "      <td>...</td>\n",
       "      <td>1.000000</td>\n",
       "      <td>1.000000</td>\n",
       "      <td>1.000000</td>\n",
       "      <td>1.000000</td>\n",
       "      <td>1.000000</td>\n",
       "      <td>1.000000</td>\n",
       "      <td>1.000000</td>\n",
       "      <td>1.000000</td>\n",
       "      <td>1.000000</td>\n",
       "      <td>1.000000</td>\n",
       "    </tr>\n",
       "    <tr>\n",
       "      <th>1</th>\n",
       "      <td>0.998414</td>\n",
       "      <td>1.007198</td>\n",
       "      <td>1.001576</td>\n",
       "      <td>0.997751</td>\n",
       "      <td>0.995101</td>\n",
       "      <td>1.004645</td>\n",
       "      <td>0.996701</td>\n",
       "      <td>0.998152</td>\n",
       "      <td>0.992428</td>\n",
       "      <td>0.997037</td>\n",
       "      <td>...</td>\n",
       "      <td>0.993489</td>\n",
       "      <td>1.000674</td>\n",
       "      <td>0.995893</td>\n",
       "      <td>1.004789</td>\n",
       "      <td>1.007443</td>\n",
       "      <td>0.996734</td>\n",
       "      <td>1.002681</td>\n",
       "      <td>1.002902</td>\n",
       "      <td>1.012447</td>\n",
       "      <td>0.994685</td>\n",
       "    </tr>\n",
       "    <tr>\n",
       "      <th>2</th>\n",
       "      <td>1.000017</td>\n",
       "      <td>1.012116</td>\n",
       "      <td>1.001347</td>\n",
       "      <td>0.996675</td>\n",
       "      <td>1.001732</td>\n",
       "      <td>1.018180</td>\n",
       "      <td>0.994594</td>\n",
       "      <td>0.998781</td>\n",
       "      <td>0.995920</td>\n",
       "      <td>0.995901</td>\n",
       "      <td>...</td>\n",
       "      <td>0.994838</td>\n",
       "      <td>0.997991</td>\n",
       "      <td>0.993195</td>\n",
       "      <td>1.004539</td>\n",
       "      <td>1.007436</td>\n",
       "      <td>0.999255</td>\n",
       "      <td>0.995931</td>\n",
       "      <td>1.009139</td>\n",
       "      <td>1.010847</td>\n",
       "      <td>0.994227</td>\n",
       "    </tr>\n",
       "    <tr>\n",
       "      <th>3</th>\n",
       "      <td>1.002575</td>\n",
       "      <td>1.021598</td>\n",
       "      <td>1.000262</td>\n",
       "      <td>0.999404</td>\n",
       "      <td>0.999866</td>\n",
       "      <td>1.018732</td>\n",
       "      <td>0.996476</td>\n",
       "      <td>0.983960</td>\n",
       "      <td>0.988128</td>\n",
       "      <td>0.992753</td>\n",
       "      <td>...</td>\n",
       "      <td>0.989545</td>\n",
       "      <td>1.008411</td>\n",
       "      <td>0.997823</td>\n",
       "      <td>0.999602</td>\n",
       "      <td>1.005716</td>\n",
       "      <td>0.986155</td>\n",
       "      <td>1.006793</td>\n",
       "      <td>1.005728</td>\n",
       "      <td>1.012250</td>\n",
       "      <td>0.992014</td>\n",
       "    </tr>\n",
       "    <tr>\n",
       "      <th>4</th>\n",
       "      <td>0.999884</td>\n",
       "      <td>1.022055</td>\n",
       "      <td>0.994225</td>\n",
       "      <td>1.005643</td>\n",
       "      <td>1.004486</td>\n",
       "      <td>1.025598</td>\n",
       "      <td>0.993379</td>\n",
       "      <td>0.984441</td>\n",
       "      <td>0.997554</td>\n",
       "      <td>0.997842</td>\n",
       "      <td>...</td>\n",
       "      <td>0.998994</td>\n",
       "      <td>1.005469</td>\n",
       "      <td>1.001823</td>\n",
       "      <td>1.005337</td>\n",
       "      <td>1.004492</td>\n",
       "      <td>0.993298</td>\n",
       "      <td>1.007796</td>\n",
       "      <td>1.007604</td>\n",
       "      <td>1.007070</td>\n",
       "      <td>0.997187</td>\n",
       "    </tr>\n",
       "    <tr>\n",
       "      <th>...</th>\n",
       "      <td>...</td>\n",
       "      <td>...</td>\n",
       "      <td>...</td>\n",
       "      <td>...</td>\n",
       "      <td>...</td>\n",
       "      <td>...</td>\n",
       "      <td>...</td>\n",
       "      <td>...</td>\n",
       "      <td>...</td>\n",
       "      <td>...</td>\n",
       "      <td>...</td>\n",
       "      <td>...</td>\n",
       "      <td>...</td>\n",
       "      <td>...</td>\n",
       "      <td>...</td>\n",
       "      <td>...</td>\n",
       "      <td>...</td>\n",
       "      <td>...</td>\n",
       "      <td>...</td>\n",
       "      <td>...</td>\n",
       "      <td>...</td>\n",
       "    </tr>\n",
       "    <tr>\n",
       "      <th>7556</th>\n",
       "      <td>7.473503</td>\n",
       "      <td>11.781485</td>\n",
       "      <td>11.478258</td>\n",
       "      <td>9.936016</td>\n",
       "      <td>4.664435</td>\n",
       "      <td>6.828722</td>\n",
       "      <td>4.377932</td>\n",
       "      <td>6.974296</td>\n",
       "      <td>18.500239</td>\n",
       "      <td>11.524106</td>\n",
       "      <td>...</td>\n",
       "      <td>17.101888</td>\n",
       "      <td>10.850573</td>\n",
       "      <td>9.680231</td>\n",
       "      <td>7.977650</td>\n",
       "      <td>6.504783</td>\n",
       "      <td>6.872819</td>\n",
       "      <td>7.530388</td>\n",
       "      <td>13.569383</td>\n",
       "      <td>8.014412</td>\n",
       "      <td>21.256732</td>\n",
       "    </tr>\n",
       "    <tr>\n",
       "      <th>7557</th>\n",
       "      <td>7.495608</td>\n",
       "      <td>11.794348</td>\n",
       "      <td>11.483030</td>\n",
       "      <td>10.073392</td>\n",
       "      <td>4.678013</td>\n",
       "      <td>6.870113</td>\n",
       "      <td>4.366178</td>\n",
       "      <td>7.011808</td>\n",
       "      <td>18.294726</td>\n",
       "      <td>11.545900</td>\n",
       "      <td>...</td>\n",
       "      <td>17.214412</td>\n",
       "      <td>10.708135</td>\n",
       "      <td>9.663665</td>\n",
       "      <td>8.003726</td>\n",
       "      <td>6.497567</td>\n",
       "      <td>6.914630</td>\n",
       "      <td>7.547121</td>\n",
       "      <td>13.668584</td>\n",
       "      <td>8.037320</td>\n",
       "      <td>21.488366</td>\n",
       "    </tr>\n",
       "    <tr>\n",
       "      <th>7558</th>\n",
       "      <td>7.471056</td>\n",
       "      <td>11.853495</td>\n",
       "      <td>11.543455</td>\n",
       "      <td>10.083417</td>\n",
       "      <td>4.685196</td>\n",
       "      <td>6.874985</td>\n",
       "      <td>4.366338</td>\n",
       "      <td>7.005321</td>\n",
       "      <td>18.418205</td>\n",
       "      <td>11.552764</td>\n",
       "      <td>...</td>\n",
       "      <td>17.209543</td>\n",
       "      <td>10.609281</td>\n",
       "      <td>9.689649</td>\n",
       "      <td>8.079080</td>\n",
       "      <td>6.560244</td>\n",
       "      <td>6.924597</td>\n",
       "      <td>7.493868</td>\n",
       "      <td>13.618883</td>\n",
       "      <td>7.990306</td>\n",
       "      <td>21.553222</td>\n",
       "    </tr>\n",
       "    <tr>\n",
       "      <th>7559</th>\n",
       "      <td>7.467821</td>\n",
       "      <td>11.834624</td>\n",
       "      <td>11.631020</td>\n",
       "      <td>10.104807</td>\n",
       "      <td>4.695897</td>\n",
       "      <td>6.794067</td>\n",
       "      <td>4.361159</td>\n",
       "      <td>7.008541</td>\n",
       "      <td>18.119669</td>\n",
       "      <td>11.614943</td>\n",
       "      <td>...</td>\n",
       "      <td>17.089027</td>\n",
       "      <td>10.502120</td>\n",
       "      <td>9.753304</td>\n",
       "      <td>8.141906</td>\n",
       "      <td>6.528946</td>\n",
       "      <td>6.911881</td>\n",
       "      <td>7.464457</td>\n",
       "      <td>13.560255</td>\n",
       "      <td>7.990996</td>\n",
       "      <td>21.494394</td>\n",
       "    </tr>\n",
       "    <tr>\n",
       "      <th>7560</th>\n",
       "      <td>7.416302</td>\n",
       "      <td>11.863735</td>\n",
       "      <td>11.588081</td>\n",
       "      <td>10.049099</td>\n",
       "      <td>4.694849</td>\n",
       "      <td>6.767040</td>\n",
       "      <td>4.392536</td>\n",
       "      <td>7.009261</td>\n",
       "      <td>18.145827</td>\n",
       "      <td>11.745556</td>\n",
       "      <td>...</td>\n",
       "      <td>17.112482</td>\n",
       "      <td>10.439275</td>\n",
       "      <td>9.776522</td>\n",
       "      <td>8.135655</td>\n",
       "      <td>6.544417</td>\n",
       "      <td>6.872686</td>\n",
       "      <td>7.456179</td>\n",
       "      <td>13.615449</td>\n",
       "      <td>8.015665</td>\n",
       "      <td>21.378437</td>\n",
       "    </tr>\n",
       "  </tbody>\n",
       "</table>\n",
       "<p>7561 rows × 500 columns</p>\n",
       "</div>"
      ],
      "text/plain": [
       "           0          1          2          3         4         5         6    \\\n",
       "0     1.000000   1.000000   1.000000   1.000000  1.000000  1.000000  1.000000   \n",
       "1     0.998414   1.007198   1.001576   0.997751  0.995101  1.004645  0.996701   \n",
       "2     1.000017   1.012116   1.001347   0.996675  1.001732  1.018180  0.994594   \n",
       "3     1.002575   1.021598   1.000262   0.999404  0.999866  1.018732  0.996476   \n",
       "4     0.999884   1.022055   0.994225   1.005643  1.004486  1.025598  0.993379   \n",
       "...        ...        ...        ...        ...       ...       ...       ...   \n",
       "7556  7.473503  11.781485  11.478258   9.936016  4.664435  6.828722  4.377932   \n",
       "7557  7.495608  11.794348  11.483030  10.073392  4.678013  6.870113  4.366178   \n",
       "7558  7.471056  11.853495  11.543455  10.083417  4.685196  6.874985  4.366338   \n",
       "7559  7.467821  11.834624  11.631020  10.104807  4.695897  6.794067  4.361159   \n",
       "7560  7.416302  11.863735  11.588081  10.049099  4.694849  6.767040  4.392536   \n",
       "\n",
       "           7          8          9    ...        490        491       492  \\\n",
       "0     1.000000   1.000000   1.000000  ...   1.000000   1.000000  1.000000   \n",
       "1     0.998152   0.992428   0.997037  ...   0.993489   1.000674  0.995893   \n",
       "2     0.998781   0.995920   0.995901  ...   0.994838   0.997991  0.993195   \n",
       "3     0.983960   0.988128   0.992753  ...   0.989545   1.008411  0.997823   \n",
       "4     0.984441   0.997554   0.997842  ...   0.998994   1.005469  1.001823   \n",
       "...        ...        ...        ...  ...        ...        ...       ...   \n",
       "7556  6.974296  18.500239  11.524106  ...  17.101888  10.850573  9.680231   \n",
       "7557  7.011808  18.294726  11.545900  ...  17.214412  10.708135  9.663665   \n",
       "7558  7.005321  18.418205  11.552764  ...  17.209543  10.609281  9.689649   \n",
       "7559  7.008541  18.119669  11.614943  ...  17.089027  10.502120  9.753304   \n",
       "7560  7.009261  18.145827  11.745556  ...  17.112482  10.439275  9.776522   \n",
       "\n",
       "           493       494       495       496        497       498        499  \n",
       "0     1.000000  1.000000  1.000000  1.000000   1.000000  1.000000   1.000000  \n",
       "1     1.004789  1.007443  0.996734  1.002681   1.002902  1.012447   0.994685  \n",
       "2     1.004539  1.007436  0.999255  0.995931   1.009139  1.010847   0.994227  \n",
       "3     0.999602  1.005716  0.986155  1.006793   1.005728  1.012250   0.992014  \n",
       "4     1.005337  1.004492  0.993298  1.007796   1.007604  1.007070   0.997187  \n",
       "...        ...       ...       ...       ...        ...       ...        ...  \n",
       "7556  7.977650  6.504783  6.872819  7.530388  13.569383  8.014412  21.256732  \n",
       "7557  8.003726  6.497567  6.914630  7.547121  13.668584  8.037320  21.488366  \n",
       "7558  8.079080  6.560244  6.924597  7.493868  13.618883  7.990306  21.553222  \n",
       "7559  8.141906  6.528946  6.911881  7.464457  13.560255  7.990996  21.494394  \n",
       "7560  8.135655  6.544417  6.872686  7.456179  13.615449  8.015665  21.378437  \n",
       "\n",
       "[7561 rows x 500 columns]"
      ]
     },
     "execution_count": 33,
     "metadata": {},
     "output_type": "execute_result"
    }
   ],
   "source": [
    "# Run the Monte Carlo simulation to forecast 30 years cumulative returns\n",
    "# YOUR CODE HERE\n",
    "MC_thirty_year.calc_cumulative_return()"
   ]
  },
  {
   "cell_type": "code",
   "execution_count": 34,
   "metadata": {},
   "outputs": [
    {
     "data": {
      "image/png": "[encoded data removed]",
      "text/plain": [
       "<Figure size 432x288 with 1 Axes>"
      ]
     },
     "metadata": {
      "needs_background": "light"
     },
     "output_type": "display_data"
    }
   ],
   "source": [
    "# Visualize the 30-year Monte Carlo simulation by creating an\n",
    "# overlay line plot\n",
    "# YOUR CODE HERE\n",
    "MC_sim_line_plot = MC_thirty_year.plot_simulation()\n",
    "MC_sim_line_plot.get_figure().savefig(\"MC_thirtyyear_sim_plot.png\", bbox_inches = \"tight\")"
   ]
  },
  {
   "cell_type": "markdown",
   "metadata": {},
   "source": [
    "#### Step 3: Plot the probability distribution of the Monte Carlo simulation."
   ]
  },
  {
   "cell_type": "code",
   "execution_count": 35,
   "metadata": {},
   "outputs": [
    {
     "data": {
      "image/png": "[encoded data removed]",
      "text/plain": [
       "<Figure size 432x288 with 1 Axes>"
      ]
     },
     "metadata": {
      "needs_background": "light"
     },
     "output_type": "display_data"
    }
   ],
   "source": [
    "# Visualize the probability distribution of the 30-year Monte Carlo simulation \n",
    "# by plotting a histogram\n",
    "# YOUR CODE HERE\n",
    "MC_sim_dis_plot = MC_thirty_year.plot_distribution()\n",
    "\n",
    "MC_sim_dis_plot.get_figure().savefig(\"MC_thirtyyear_dis_plot.png\", bbox_inches = \"tight\")"
   ]
  },
  {
   "cell_type": "markdown",
   "metadata": {},
   "source": [
    "#### Step 4: Generate the summary statistics for the Monte Carlo simulation."
   ]
  },
  {
   "cell_type": "code",
   "execution_count": 36,
   "metadata": {},
   "outputs": [
    {
     "name": "stdout",
     "output_type": "stream",
     "text": [
      "count           500.000000\n",
      "mean              9.982192\n",
      "std               4.844553\n",
      "min               1.851836\n",
      "25%               6.604629\n",
      "50%               9.071138\n",
      "75%              11.998853\n",
      "max              33.139969\n",
      "95% CI Lower      3.812843\n",
      "95% CI Upper     22.309592\n",
      "Name: 7560, dtype: float64\n"
     ]
    }
   ],
   "source": [
    "# Generate summary statistics from the 30-year Monte Carlo simulation results\n",
    "# Save the results as a variable\n",
    "# YOUR CODE HERE\n",
    "MC_summary_statistics = MC_thirty_year.summarize_cumulative_return()\n",
    "# Review the 30-year Monte Carlo summary statistics\n",
    "# YOUR CODE HERE\n",
    "print(MC_summary_statistics)"
   ]
  },
  {
   "cell_type": "markdown",
   "metadata": {},
   "source": [
    "### Analyze the Retirement Portfolio Forecasts\n",
    "\n",
    "Using the current value of only the stock and bond portion of the member's portfolio and the summary statistics that you generated from the Monte Carlo simulation, answer the following question in your Jupyter notebook:\n",
    "\n",
    "-  What are the lower and upper bounds for the expected value of the portfolio with a 95% confidence interval?\n"
   ]
  },
  {
   "cell_type": "code",
   "execution_count": 37,
   "metadata": {},
   "outputs": [
    {
     "name": "stdout",
     "output_type": "stream",
     "text": [
      "The current stock_bond balance is $ 103,710.50\n"
     ]
    }
   ],
   "source": [
    "# Print the current balance of the stock and bond portion of the members portfolio\n",
    "# YOUR CODE HERE\n",
    "current_balance_of_stock_bond = total_stocks_bonds\n",
    "print(f\"The current stock_bond balance is ${total_stocks_bonds: ,.2f}\")"
   ]
  },
  {
   "cell_type": "code",
   "execution_count": 38,
   "metadata": {},
   "outputs": [
    {
     "name": "stdout",
     "output_type": "stream",
     "text": [
      "There is a 95% chance that an initial investment of $103,710.50 in the portfolio over the next 30 years will end within in the range of $ 395,431.88 and $ 2,313,738.91.\n"
     ]
    }
   ],
   "source": [
    "# Use the lower and upper `95%` confidence intervals to calculate the range of the possible outcomes for the current stock/bond portfolio\n",
    "ci_lower_thirty_cumulative_return = MC_summary_statistics[8]* total_stocks_bonds\n",
    "ci_upper_thirty_cumulative_return = MC_summary_statistics[9]* total_stocks_bonds\n",
    "\n",
    "# Print the result of your calculations\n",
    "print(f\"There is a 95% chance that an initial investment of $103,710.50 in the portfolio\"\n",
    "  f\" over the next 30 years will end within in the range of\"\n",
    "  f\" ${ci_lower_thirty_cumulative_return: ,.2f} and ${ci_upper_thirty_cumulative_return: ,.2f}.\")\n"
   ]
  },
  {
   "cell_type": "markdown",
   "metadata": {},
   "source": [
    "### Forecast Cumulative Returns in 10 Years\n",
    "\n",
    "The CTO of the credit union is impressed with your work on these planning tools but wonders if 30 years is a long time to wait until retirement. So, your next task is to adjust the retirement portfolio and run a new Monte Carlo simulation to find out if the changes will allow members to retire earlier.\n",
    "\n",
    "For this new Monte Carlo simulation, do the following: \n",
    "\n",
    "- Forecast the cumulative returns for 10 years from now. Because of the shortened investment horizon (30 years to 10 years), the portfolio needs to invest more heavily in the riskier asset&mdash;that is, stock&mdash;to help accumulate wealth for retirement. \n",
    "\n",
    "- Adjust the weights of the retirement portfolio so that the composition for the Monte Carlo simulation consists of 20% bonds and 80% stocks. \n",
    "\n",
    "- Run the simulation over 500 samples, and use the same data that the API call to Alpaca generated.\n",
    "\n",
    "- Based on the new Monte Carlo simulation, answer the following questions in your Jupyter notebook:\n",
    "\n",
    "    - Using the current value of only the stock and bond portion of the member's portfolio and the summary statistics that you generated from the new Monte Carlo simulation, what are the lower and upper bounds for the expected value of the portfolio (with the new weights) with a 95% confidence interval?\n",
    "\n",
    "    - Will weighting the portfolio more heavily toward stocks allow the credit union members to retire after only 10 years?\n"
   ]
  },
  {
   "cell_type": "code",
   "execution_count": 39,
   "metadata": {},
   "outputs": [
    {
     "data": {
      "text/html": [
       "<div>\n",
       "<style scoped>\n",
       "    .dataframe tbody tr th:only-of-type {\n",
       "        vertical-align: middle;\n",
       "    }\n",
       "\n",
       "    .dataframe tbody tr th {\n",
       "        vertical-align: top;\n",
       "    }\n",
       "\n",
       "    .dataframe thead tr th {\n",
       "        text-align: left;\n",
       "    }\n",
       "\n",
       "    .dataframe thead tr:last-of-type th {\n",
       "        text-align: right;\n",
       "    }\n",
       "</style>\n",
       "<table border=\"1\" class=\"dataframe\">\n",
       "  <thead>\n",
       "    <tr>\n",
       "      <th></th>\n",
       "      <th colspan=\"6\" halign=\"left\">AGG</th>\n",
       "      <th colspan=\"6\" halign=\"left\">SPY</th>\n",
       "    </tr>\n",
       "    <tr>\n",
       "      <th></th>\n",
       "      <th>open</th>\n",
       "      <th>high</th>\n",
       "      <th>low</th>\n",
       "      <th>close</th>\n",
       "      <th>volume</th>\n",
       "      <th>daily_return</th>\n",
       "      <th>open</th>\n",
       "      <th>high</th>\n",
       "      <th>low</th>\n",
       "      <th>close</th>\n",
       "      <th>volume</th>\n",
       "      <th>daily_return</th>\n",
       "    </tr>\n",
       "    <tr>\n",
       "      <th>time</th>\n",
       "      <th></th>\n",
       "      <th></th>\n",
       "      <th></th>\n",
       "      <th></th>\n",
       "      <th></th>\n",
       "      <th></th>\n",
       "      <th></th>\n",
       "      <th></th>\n",
       "      <th></th>\n",
       "      <th></th>\n",
       "      <th></th>\n",
       "      <th></th>\n",
       "    </tr>\n",
       "  </thead>\n",
       "  <tbody>\n",
       "    <tr>\n",
       "      <th>2017-08-10 00:00:00-04:00</th>\n",
       "      <td>109.70</td>\n",
       "      <td>109.8500</td>\n",
       "      <td>109.67</td>\n",
       "      <td>109.8053</td>\n",
       "      <td>1691677</td>\n",
       "      <td>NaN</td>\n",
       "      <td>246.28</td>\n",
       "      <td>246.44</td>\n",
       "      <td>243.70</td>\n",
       "      <td>243.79</td>\n",
       "      <td>87857827</td>\n",
       "      <td>NaN</td>\n",
       "    </tr>\n",
       "    <tr>\n",
       "      <th>2017-08-11 00:00:00-04:00</th>\n",
       "      <td>109.75</td>\n",
       "      <td>109.9400</td>\n",
       "      <td>109.68</td>\n",
       "      <td>109.8850</td>\n",
       "      <td>1613467</td>\n",
       "      <td>0.000726</td>\n",
       "      <td>244.02</td>\n",
       "      <td>244.80</td>\n",
       "      <td>243.75</td>\n",
       "      <td>244.11</td>\n",
       "      <td>56404847</td>\n",
       "      <td>0.001313</td>\n",
       "    </tr>\n",
       "    <tr>\n",
       "      <th>2017-08-14 00:00:00-04:00</th>\n",
       "      <td>109.84</td>\n",
       "      <td>109.8969</td>\n",
       "      <td>109.74</td>\n",
       "      <td>109.8100</td>\n",
       "      <td>2002026</td>\n",
       "      <td>-0.000683</td>\n",
       "      <td>245.59</td>\n",
       "      <td>246.79</td>\n",
       "      <td>245.55</td>\n",
       "      <td>246.52</td>\n",
       "      <td>49018104</td>\n",
       "      <td>0.009873</td>\n",
       "    </tr>\n",
       "    <tr>\n",
       "      <th>2017-08-15 00:00:00-04:00</th>\n",
       "      <td>109.56</td>\n",
       "      <td>109.7150</td>\n",
       "      <td>109.56</td>\n",
       "      <td>109.6500</td>\n",
       "      <td>1585338</td>\n",
       "      <td>-0.001457</td>\n",
       "      <td>246.98</td>\n",
       "      <td>247.00</td>\n",
       "      <td>246.16</td>\n",
       "      <td>246.53</td>\n",
       "      <td>35274867</td>\n",
       "      <td>0.000041</td>\n",
       "    </tr>\n",
       "    <tr>\n",
       "      <th>2017-08-16 00:00:00-04:00</th>\n",
       "      <td>109.54</td>\n",
       "      <td>109.9300</td>\n",
       "      <td>109.54</td>\n",
       "      <td>109.8400</td>\n",
       "      <td>1570272</td>\n",
       "      <td>0.001733</td>\n",
       "      <td>247.11</td>\n",
       "      <td>247.57</td>\n",
       "      <td>246.45</td>\n",
       "      <td>246.92</td>\n",
       "      <td>44955596</td>\n",
       "      <td>0.001582</td>\n",
       "    </tr>\n",
       "  </tbody>\n",
       "</table>\n",
       "</div>"
      ],
      "text/plain": [
       "                              AGG                                       \\\n",
       "                             open      high     low     close   volume   \n",
       "time                                                                     \n",
       "2017-08-10 00:00:00-04:00  109.70  109.8500  109.67  109.8053  1691677   \n",
       "2017-08-11 00:00:00-04:00  109.75  109.9400  109.68  109.8850  1613467   \n",
       "2017-08-14 00:00:00-04:00  109.84  109.8969  109.74  109.8100  2002026   \n",
       "2017-08-15 00:00:00-04:00  109.56  109.7150  109.56  109.6500  1585338   \n",
       "2017-08-16 00:00:00-04:00  109.54  109.9300  109.54  109.8400  1570272   \n",
       "\n",
       "                                           SPY                          \\\n",
       "                          daily_return    open    high     low   close   \n",
       "time                                                                     \n",
       "2017-08-10 00:00:00-04:00          NaN  246.28  246.44  243.70  243.79   \n",
       "2017-08-11 00:00:00-04:00     0.000726  244.02  244.80  243.75  244.11   \n",
       "2017-08-14 00:00:00-04:00    -0.000683  245.59  246.79  245.55  246.52   \n",
       "2017-08-15 00:00:00-04:00    -0.001457  246.98  247.00  246.16  246.53   \n",
       "2017-08-16 00:00:00-04:00     0.001733  247.11  247.57  246.45  246.92   \n",
       "\n",
       "                                                  \n",
       "                             volume daily_return  \n",
       "time                                              \n",
       "2017-08-10 00:00:00-04:00  87857827          NaN  \n",
       "2017-08-11 00:00:00-04:00  56404847     0.001313  \n",
       "2017-08-14 00:00:00-04:00  49018104     0.009873  \n",
       "2017-08-15 00:00:00-04:00  35274867     0.000041  \n",
       "2017-08-16 00:00:00-04:00  44955596     0.001582  "
      ]
     },
     "execution_count": 39,
     "metadata": {},
     "output_type": "execute_result"
    }
   ],
   "source": [
    "# Configure a Monte Carlo simulation to forecast 10 years cumulative returns\n",
    "# The weights should be split 20% to AGG and 80% to SPY.\n",
    "# Run 500 samples.\n",
    "MC_ten_year = MCSimulation(\n",
    "portfolio_data = prices_df,\n",
    "weights = [.80, .20],\n",
    "num_simulation =500,\n",
    "num_trading_days = 252 *10\n",
    ")\n",
    "\n",
    "# Review the simulation input data\n",
    "MC_ten_year.portfolio_data.head()\n"
   ]
  },
  {
   "cell_type": "code",
   "execution_count": 40,
   "metadata": {},
   "outputs": [
    {
     "name": "stdout",
     "output_type": "stream",
     "text": [
      "Running Monte Carlo simulation number 0.\n",
      "Running Monte Carlo simulation number 10.\n",
      "Running Monte Carlo simulation number 20.\n",
      "Running Monte Carlo simulation number 30.\n",
      "Running Monte Carlo simulation number 40.\n",
      "Running Monte Carlo simulation number 50.\n",
      "Running Monte Carlo simulation number 60.\n",
      "Running Monte Carlo simulation number 70.\n",
      "Running Monte Carlo simulation number 80.\n",
      "Running Monte Carlo simulation number 90.\n",
      "Running Monte Carlo simulation number 100.\n",
      "Running Monte Carlo simulation number 110.\n",
      "Running Monte Carlo simulation number 120.\n",
      "Running Monte Carlo simulation number 130.\n",
      "Running Monte Carlo simulation number 140.\n",
      "Running Monte Carlo simulation number 150.\n",
      "Running Monte Carlo simulation number 160.\n",
      "Running Monte Carlo simulation number 170.\n",
      "Running Monte Carlo simulation number 180.\n",
      "Running Monte Carlo simulation number 190.\n",
      "Running Monte Carlo simulation number 200.\n",
      "Running Monte Carlo simulation number 210.\n",
      "Running Monte Carlo simulation number 220.\n",
      "Running Monte Carlo simulation number 230.\n",
      "Running Monte Carlo simulation number 240.\n",
      "Running Monte Carlo simulation number 250.\n",
      "Running Monte Carlo simulation number 260.\n",
      "Running Monte Carlo simulation number 270.\n",
      "Running Monte Carlo simulation number 280.\n",
      "Running Monte Carlo simulation number 290.\n",
      "Running Monte Carlo simulation number 300.\n",
      "Running Monte Carlo simulation number 310.\n",
      "Running Monte Carlo simulation number 320.\n",
      "Running Monte Carlo simulation number 330.\n",
      "Running Monte Carlo simulation number 340.\n",
      "Running Monte Carlo simulation number 350.\n",
      "Running Monte Carlo simulation number 360.\n",
      "Running Monte Carlo simulation number 370.\n",
      "Running Monte Carlo simulation number 380.\n",
      "Running Monte Carlo simulation number 390.\n",
      "Running Monte Carlo simulation number 400.\n",
      "Running Monte Carlo simulation number 410.\n",
      "Running Monte Carlo simulation number 420.\n",
      "Running Monte Carlo simulation number 430.\n",
      "Running Monte Carlo simulation number 440.\n",
      "Running Monte Carlo simulation number 450.\n",
      "Running Monte Carlo simulation number 460.\n",
      "Running Monte Carlo simulation number 470.\n",
      "Running Monte Carlo simulation number 480.\n",
      "Running Monte Carlo simulation number 490.\n"
     ]
    },
    {
     "data": {
      "text/html": [
       "<div>\n",
       "<style scoped>\n",
       "    .dataframe tbody tr th:only-of-type {\n",
       "        vertical-align: middle;\n",
       "    }\n",
       "\n",
       "    .dataframe tbody tr th {\n",
       "        vertical-align: top;\n",
       "    }\n",
       "\n",
       "    .dataframe thead th {\n",
       "        text-align: right;\n",
       "    }\n",
       "</style>\n",
       "<table border=\"1\" class=\"dataframe\">\n",
       "  <thead>\n",
       "    <tr style=\"text-align: right;\">\n",
       "      <th></th>\n",
       "      <th>0</th>\n",
       "      <th>1</th>\n",
       "      <th>2</th>\n",
       "      <th>3</th>\n",
       "      <th>4</th>\n",
       "      <th>5</th>\n",
       "      <th>6</th>\n",
       "      <th>7</th>\n",
       "      <th>8</th>\n",
       "      <th>9</th>\n",
       "      <th>...</th>\n",
       "      <th>490</th>\n",
       "      <th>491</th>\n",
       "      <th>492</th>\n",
       "      <th>493</th>\n",
       "      <th>494</th>\n",
       "      <th>495</th>\n",
       "      <th>496</th>\n",
       "      <th>497</th>\n",
       "      <th>498</th>\n",
       "      <th>499</th>\n",
       "    </tr>\n",
       "  </thead>\n",
       "  <tbody>\n",
       "    <tr>\n",
       "      <th>0</th>\n",
       "      <td>1.000000</td>\n",
       "      <td>1.000000</td>\n",
       "      <td>1.000000</td>\n",
       "      <td>1.000000</td>\n",
       "      <td>1.000000</td>\n",
       "      <td>1.000000</td>\n",
       "      <td>1.000000</td>\n",
       "      <td>1.000000</td>\n",
       "      <td>1.000000</td>\n",
       "      <td>1.000000</td>\n",
       "      <td>...</td>\n",
       "      <td>1.000000</td>\n",
       "      <td>1.000000</td>\n",
       "      <td>1.000000</td>\n",
       "      <td>1.000000</td>\n",
       "      <td>1.000000</td>\n",
       "      <td>1.000000</td>\n",
       "      <td>1.000000</td>\n",
       "      <td>1.000000</td>\n",
       "      <td>1.000000</td>\n",
       "      <td>1.000000</td>\n",
       "    </tr>\n",
       "    <tr>\n",
       "      <th>1</th>\n",
       "      <td>1.001218</td>\n",
       "      <td>0.998703</td>\n",
       "      <td>0.997502</td>\n",
       "      <td>1.000733</td>\n",
       "      <td>0.997156</td>\n",
       "      <td>0.995476</td>\n",
       "      <td>1.000155</td>\n",
       "      <td>1.003364</td>\n",
       "      <td>1.001155</td>\n",
       "      <td>0.992401</td>\n",
       "      <td>...</td>\n",
       "      <td>1.001526</td>\n",
       "      <td>1.005279</td>\n",
       "      <td>1.000940</td>\n",
       "      <td>0.998089</td>\n",
       "      <td>1.001088</td>\n",
       "      <td>1.003861</td>\n",
       "      <td>1.003107</td>\n",
       "      <td>1.004321</td>\n",
       "      <td>1.000754</td>\n",
       "      <td>1.002006</td>\n",
       "    </tr>\n",
       "    <tr>\n",
       "      <th>2</th>\n",
       "      <td>1.003841</td>\n",
       "      <td>0.999640</td>\n",
       "      <td>1.002408</td>\n",
       "      <td>1.002884</td>\n",
       "      <td>0.998984</td>\n",
       "      <td>0.993722</td>\n",
       "      <td>1.000076</td>\n",
       "      <td>1.006738</td>\n",
       "      <td>1.006930</td>\n",
       "      <td>0.991261</td>\n",
       "      <td>...</td>\n",
       "      <td>1.003929</td>\n",
       "      <td>1.003207</td>\n",
       "      <td>1.000515</td>\n",
       "      <td>1.001106</td>\n",
       "      <td>1.007069</td>\n",
       "      <td>1.010809</td>\n",
       "      <td>1.008803</td>\n",
       "      <td>1.009617</td>\n",
       "      <td>1.008168</td>\n",
       "      <td>1.005321</td>\n",
       "    </tr>\n",
       "    <tr>\n",
       "      <th>3</th>\n",
       "      <td>0.999244</td>\n",
       "      <td>1.002061</td>\n",
       "      <td>1.002857</td>\n",
       "      <td>1.005005</td>\n",
       "      <td>1.003373</td>\n",
       "      <td>0.997391</td>\n",
       "      <td>0.999946</td>\n",
       "      <td>1.002054</td>\n",
       "      <td>1.000831</td>\n",
       "      <td>0.989281</td>\n",
       "      <td>...</td>\n",
       "      <td>1.003466</td>\n",
       "      <td>1.007608</td>\n",
       "      <td>1.004835</td>\n",
       "      <td>1.004123</td>\n",
       "      <td>1.011160</td>\n",
       "      <td>1.008099</td>\n",
       "      <td>1.013033</td>\n",
       "      <td>1.006751</td>\n",
       "      <td>1.009893</td>\n",
       "      <td>0.999774</td>\n",
       "    </tr>\n",
       "    <tr>\n",
       "      <th>4</th>\n",
       "      <td>0.998267</td>\n",
       "      <td>1.002223</td>\n",
       "      <td>1.001336</td>\n",
       "      <td>1.006023</td>\n",
       "      <td>0.999500</td>\n",
       "      <td>0.999361</td>\n",
       "      <td>0.999425</td>\n",
       "      <td>0.997829</td>\n",
       "      <td>1.003759</td>\n",
       "      <td>0.983308</td>\n",
       "      <td>...</td>\n",
       "      <td>1.008875</td>\n",
       "      <td>1.007894</td>\n",
       "      <td>1.008096</td>\n",
       "      <td>1.006499</td>\n",
       "      <td>1.013260</td>\n",
       "      <td>1.010282</td>\n",
       "      <td>1.013823</td>\n",
       "      <td>1.004595</td>\n",
       "      <td>1.012696</td>\n",
       "      <td>1.007543</td>\n",
       "    </tr>\n",
       "    <tr>\n",
       "      <th>...</th>\n",
       "      <td>...</td>\n",
       "      <td>...</td>\n",
       "      <td>...</td>\n",
       "      <td>...</td>\n",
       "      <td>...</td>\n",
       "      <td>...</td>\n",
       "      <td>...</td>\n",
       "      <td>...</td>\n",
       "      <td>...</td>\n",
       "      <td>...</td>\n",
       "      <td>...</td>\n",
       "      <td>...</td>\n",
       "      <td>...</td>\n",
       "      <td>...</td>\n",
       "      <td>...</td>\n",
       "      <td>...</td>\n",
       "      <td>...</td>\n",
       "      <td>...</td>\n",
       "      <td>...</td>\n",
       "      <td>...</td>\n",
       "      <td>...</td>\n",
       "    </tr>\n",
       "    <tr>\n",
       "      <th>2516</th>\n",
       "      <td>2.171354</td>\n",
       "      <td>1.917979</td>\n",
       "      <td>1.746174</td>\n",
       "      <td>1.788954</td>\n",
       "      <td>2.112626</td>\n",
       "      <td>1.504823</td>\n",
       "      <td>1.252223</td>\n",
       "      <td>2.188582</td>\n",
       "      <td>1.137640</td>\n",
       "      <td>1.523011</td>\n",
       "      <td>...</td>\n",
       "      <td>1.777131</td>\n",
       "      <td>2.078530</td>\n",
       "      <td>1.727721</td>\n",
       "      <td>1.537438</td>\n",
       "      <td>2.230732</td>\n",
       "      <td>1.419910</td>\n",
       "      <td>1.395393</td>\n",
       "      <td>1.731389</td>\n",
       "      <td>1.416228</td>\n",
       "      <td>1.681561</td>\n",
       "    </tr>\n",
       "    <tr>\n",
       "      <th>2517</th>\n",
       "      <td>2.170239</td>\n",
       "      <td>1.917957</td>\n",
       "      <td>1.747722</td>\n",
       "      <td>1.800119</td>\n",
       "      <td>2.113429</td>\n",
       "      <td>1.502083</td>\n",
       "      <td>1.251941</td>\n",
       "      <td>2.185002</td>\n",
       "      <td>1.139363</td>\n",
       "      <td>1.519894</td>\n",
       "      <td>...</td>\n",
       "      <td>1.776104</td>\n",
       "      <td>2.087653</td>\n",
       "      <td>1.732382</td>\n",
       "      <td>1.531873</td>\n",
       "      <td>2.233811</td>\n",
       "      <td>1.413773</td>\n",
       "      <td>1.389576</td>\n",
       "      <td>1.744931</td>\n",
       "      <td>1.417447</td>\n",
       "      <td>1.676534</td>\n",
       "    </tr>\n",
       "    <tr>\n",
       "      <th>2518</th>\n",
       "      <td>2.163164</td>\n",
       "      <td>1.919369</td>\n",
       "      <td>1.739791</td>\n",
       "      <td>1.799263</td>\n",
       "      <td>2.110155</td>\n",
       "      <td>1.505899</td>\n",
       "      <td>1.250302</td>\n",
       "      <td>2.180654</td>\n",
       "      <td>1.143838</td>\n",
       "      <td>1.533721</td>\n",
       "      <td>...</td>\n",
       "      <td>1.772644</td>\n",
       "      <td>2.086200</td>\n",
       "      <td>1.737723</td>\n",
       "      <td>1.540918</td>\n",
       "      <td>2.228091</td>\n",
       "      <td>1.413271</td>\n",
       "      <td>1.391917</td>\n",
       "      <td>1.750632</td>\n",
       "      <td>1.415047</td>\n",
       "      <td>1.669193</td>\n",
       "    </tr>\n",
       "    <tr>\n",
       "      <th>2519</th>\n",
       "      <td>2.159326</td>\n",
       "      <td>1.911802</td>\n",
       "      <td>1.750906</td>\n",
       "      <td>1.798355</td>\n",
       "      <td>2.104444</td>\n",
       "      <td>1.513075</td>\n",
       "      <td>1.248725</td>\n",
       "      <td>2.195495</td>\n",
       "      <td>1.143064</td>\n",
       "      <td>1.533050</td>\n",
       "      <td>...</td>\n",
       "      <td>1.775015</td>\n",
       "      <td>2.083973</td>\n",
       "      <td>1.743999</td>\n",
       "      <td>1.537834</td>\n",
       "      <td>2.227846</td>\n",
       "      <td>1.416236</td>\n",
       "      <td>1.386865</td>\n",
       "      <td>1.745188</td>\n",
       "      <td>1.408742</td>\n",
       "      <td>1.679605</td>\n",
       "    </tr>\n",
       "    <tr>\n",
       "      <th>2520</th>\n",
       "      <td>2.154396</td>\n",
       "      <td>1.920180</td>\n",
       "      <td>1.750186</td>\n",
       "      <td>1.794069</td>\n",
       "      <td>2.100723</td>\n",
       "      <td>1.504548</td>\n",
       "      <td>1.249170</td>\n",
       "      <td>2.192976</td>\n",
       "      <td>1.144215</td>\n",
       "      <td>1.531260</td>\n",
       "      <td>...</td>\n",
       "      <td>1.773116</td>\n",
       "      <td>2.088962</td>\n",
       "      <td>1.741390</td>\n",
       "      <td>1.541179</td>\n",
       "      <td>2.227937</td>\n",
       "      <td>1.416563</td>\n",
       "      <td>1.387323</td>\n",
       "      <td>1.746060</td>\n",
       "      <td>1.413385</td>\n",
       "      <td>1.668586</td>\n",
       "    </tr>\n",
       "  </tbody>\n",
       "</table>\n",
       "<p>2521 rows × 500 columns</p>\n",
       "</div>"
      ],
      "text/plain": [
       "           0         1         2         3         4         5         6    \\\n",
       "0     1.000000  1.000000  1.000000  1.000000  1.000000  1.000000  1.000000   \n",
       "1     1.001218  0.998703  0.997502  1.000733  0.997156  0.995476  1.000155   \n",
       "2     1.003841  0.999640  1.002408  1.002884  0.998984  0.993722  1.000076   \n",
       "3     0.999244  1.002061  1.002857  1.005005  1.003373  0.997391  0.999946   \n",
       "4     0.998267  1.002223  1.001336  1.006023  0.999500  0.999361  0.999425   \n",
       "...        ...       ...       ...       ...       ...       ...       ...   \n",
       "2516  2.171354  1.917979  1.746174  1.788954  2.112626  1.504823  1.252223   \n",
       "2517  2.170239  1.917957  1.747722  1.800119  2.113429  1.502083  1.251941   \n",
       "2518  2.163164  1.919369  1.739791  1.799263  2.110155  1.505899  1.250302   \n",
       "2519  2.159326  1.911802  1.750906  1.798355  2.104444  1.513075  1.248725   \n",
       "2520  2.154396  1.920180  1.750186  1.794069  2.100723  1.504548  1.249170   \n",
       "\n",
       "           7         8         9    ...       490       491       492  \\\n",
       "0     1.000000  1.000000  1.000000  ...  1.000000  1.000000  1.000000   \n",
       "1     1.003364  1.001155  0.992401  ...  1.001526  1.005279  1.000940   \n",
       "2     1.006738  1.006930  0.991261  ...  1.003929  1.003207  1.000515   \n",
       "3     1.002054  1.000831  0.989281  ...  1.003466  1.007608  1.004835   \n",
       "4     0.997829  1.003759  0.983308  ...  1.008875  1.007894  1.008096   \n",
       "...        ...       ...       ...  ...       ...       ...       ...   \n",
       "2516  2.188582  1.137640  1.523011  ...  1.777131  2.078530  1.727721   \n",
       "2517  2.185002  1.139363  1.519894  ...  1.776104  2.087653  1.732382   \n",
       "2518  2.180654  1.143838  1.533721  ...  1.772644  2.086200  1.737723   \n",
       "2519  2.195495  1.143064  1.533050  ...  1.775015  2.083973  1.743999   \n",
       "2520  2.192976  1.144215  1.531260  ...  1.773116  2.088962  1.741390   \n",
       "\n",
       "           493       494       495       496       497       498       499  \n",
       "0     1.000000  1.000000  1.000000  1.000000  1.000000  1.000000  1.000000  \n",
       "1     0.998089  1.001088  1.003861  1.003107  1.004321  1.000754  1.002006  \n",
       "2     1.001106  1.007069  1.010809  1.008803  1.009617  1.008168  1.005321  \n",
       "3     1.004123  1.011160  1.008099  1.013033  1.006751  1.009893  0.999774  \n",
       "4     1.006499  1.013260  1.010282  1.013823  1.004595  1.012696  1.007543  \n",
       "...        ...       ...       ...       ...       ...       ...       ...  \n",
       "2516  1.537438  2.230732  1.419910  1.395393  1.731389  1.416228  1.681561  \n",
       "2517  1.531873  2.233811  1.413773  1.389576  1.744931  1.417447  1.676534  \n",
       "2518  1.540918  2.228091  1.413271  1.391917  1.750632  1.415047  1.669193  \n",
       "2519  1.537834  2.227846  1.416236  1.386865  1.745188  1.408742  1.679605  \n",
       "2520  1.541179  2.227937  1.416563  1.387323  1.746060  1.413385  1.668586  \n",
       "\n",
       "[2521 rows x 500 columns]"
      ]
     },
     "execution_count": 40,
     "metadata": {},
     "output_type": "execute_result"
    }
   ],
   "source": [
    "# Run the Monte Carlo simulation to forecast 10 years cumulative returns\n",
    "MC_ten_year.calc_cumulative_return()"
   ]
  },
  {
   "cell_type": "code",
   "execution_count": 41,
   "metadata": {},
   "outputs": [
    {
     "data": {
      "image/png": "[encoded data removed]",
      "text/plain": [
       "<Figure size 432x288 with 1 Axes>"
      ]
     },
     "metadata": {
      "needs_background": "light"
     },
     "output_type": "display_data"
    }
   ],
   "source": [
    "# Visualize the 10-year Monte Carlo simulation by creating an\n",
    "# overlay line plot\n",
    "MC_sim_line_plot = MC_ten_year.plot_simulation()\n",
    "MC_sim_line_plot.get_figure().savefig(\"MC_tenyear_sim_plot.png\", bbox_inches = \"tight\")\n"
   ]
  },
  {
   "cell_type": "code",
   "execution_count": 42,
   "metadata": {},
   "outputs": [
    {
     "data": {
      "image/png": "[encoded data removed]",
      "text/plain": [
       "<Figure size 432x288 with 1 Axes>"
      ]
     },
     "metadata": {
      "needs_background": "light"
     },
     "output_type": "display_data"
    }
   ],
   "source": [
    "# Visualize the probability distribution of the 10-year Monte Carlo simulation \n",
    "# by plotting a histogram\n",
    "MC_sim_dis_plot = MC_ten_year.plot_distribution()\n",
    "\n",
    "MC_sim_dis_plot.get_figure().savefig(\"MC_tenyear_dis_plot.png\", bbox_inches = \"tight\")"
   ]
  },
  {
   "cell_type": "code",
   "execution_count": 43,
   "metadata": {},
   "outputs": [
    {
     "name": "stdout",
     "output_type": "stream",
     "text": [
      "count           500.000000\n",
      "mean              1.593550\n",
      "std               0.294345\n",
      "min               0.985825\n",
      "25%               1.388244\n",
      "50%               1.572097\n",
      "75%               1.774510\n",
      "max               2.642623\n",
      "95% CI Lower      1.090914\n",
      "95% CI Upper      2.211331\n",
      "Name: 2520, dtype: float64\n"
     ]
    }
   ],
   "source": [
    "# Generate summary statistics from the 10-year Monte Carlo simulation results\n",
    "# Save the results as a variable\n",
    "MC_summary_statistics_1 = MC_ten_year.summarize_cumulative_return()\n",
    "\n",
    "# Review the 10-year Monte Carlo summary statistics\n",
    "print(MC_summary_statistics_1)"
   ]
  },
  {
   "cell_type": "markdown",
   "metadata": {},
   "source": [
    "### Answer the following questions:"
   ]
  },
  {
   "cell_type": "markdown",
   "metadata": {},
   "source": [
    "#### Question: Using the current value of only the stock and bond portion of the member's portfolio and the summary statistics that you generated from the new Monte Carlo simulation, what are the lower and upper bounds for the expected value of the portfolio (with the new weights) with a 95% confidence interval?"
   ]
  },
  {
   "cell_type": "code",
   "execution_count": 44,
   "metadata": {},
   "outputs": [
    {
     "name": "stdout",
     "output_type": "stream",
     "text": [
      "The current stock_bond balance is $ 103,710.50\n"
     ]
    }
   ],
   "source": [
    "# Print the current balance of the stock and bond portion of the members portfolio\n",
    "# YOUR CODE HERE\n",
    "current_balance_of_stock_bond = total_stocks_bonds\n",
    "print(f\"The current stock_bond balance is ${total_stocks_bonds: ,.2f}\")"
   ]
  },
  {
   "cell_type": "code",
   "execution_count": 45,
   "metadata": {},
   "outputs": [
    {
     "name": "stdout",
     "output_type": "stream",
     "text": [
      "There is a 95% chance that an initial investment of $103,710.50 in the portfolio over the next 10 years will end within in the range of $ 113,139.27 and $ 229,338.21.\n"
     ]
    }
   ],
   "source": [
    "# Use the lower and upper `95%` confidence intervals to calculate the range of the possible outcomes for the current stock/bond portfolio\n",
    "ci_lower_ten_cumulative_return = MC_summary_statistics_1[8] * total_stocks_bonds\n",
    "ci_upper_ten_cumulative_return = MC_summary_statistics_1[9] * total_stocks_bonds\n",
    "\n",
    "# Print the result of your calculations\n",
    "print(f\"There is a 95% chance that an initial investment of $103,710.50 in the portfolio\"\n",
    "  f\" over the next 10 years will end within in the range of\"\n",
    "  f\" ${ci_lower_ten_cumulative_return: ,.2f} and ${ci_upper_ten_cumulative_return: ,.2f}.\")\n"
   ]
  },
  {
   "cell_type": "markdown",
   "metadata": {},
   "source": [
    "#### Question: Will weighting the portfolio more heavily to stocks allow the credit union members to retire after only 10 years?"
   ]
  },
  {
   "cell_type": "markdown",
   "metadata": {},
   "source": [
    "**Answer** Weighting the portfolio more heavily to stocks will allow the credit union members to retire after only 10 years"
   ]
  },
  {
   "cell_type": "code",
   "execution_count": null,
   "metadata": {},
   "outputs": [],
   "source": []
  }
 ],
 "metadata": {
  "kernelspec": {
   "display_name": "dev",
   "language": "python",
   "name": "dev"
  },
  "language_info": {
   "codemirror_mode": {
    "name": "ipython",
    "version": 3
   },
   "file_extension": ".py",
   "mimetype": "text/x-python",
   "name": "python",
   "nbconvert_exporter": "python",
   "pygments_lexer": "ipython3",
   "version": "3.7.9"
  }
 },
 "nbformat": 4,
 "nbformat_minor": 4
}
